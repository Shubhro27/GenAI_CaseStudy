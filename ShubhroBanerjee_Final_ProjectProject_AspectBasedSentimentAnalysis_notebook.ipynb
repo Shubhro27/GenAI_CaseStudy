{
  "cells": [
    {
      "cell_type": "markdown",
      "source": [
        "# **Project : A Case Study of InnovaTech Solutions**"
      ],
      "metadata": {
        "nteract": {
          "transient": {
            "deleting": false
          }
        },
        "id": "IcB7YFRJnBsj"
      }
    },
    {
      "cell_type": "markdown",
      "source": [
        "**Business Overview:**\n",
        "\n",
        "InnovaTech Solutions, a dynamic and forward-thinking technology company, has made significant strides in the computing industry with a focus on developing high-quality laptops. Established over a decade ago, InnovaTech has gained a reputation for its innovative approach and commitment to customer satisfaction, creating a significant footprint in both physical and online retail spaces.\n",
        "InnovaTech has expanded its presence in the digital retail world, especially on e-commerce giants like Amazon. This strategic move has not only widened its customer base but also resulted in a large influx of customer feedback, primarily in the form of online reviews. The company's products, notably its range of laptops, have become popular choices on these platforms, leading to an abundance of valuable but underutilized customer data."
      ],
      "metadata": {
        "nteract": {
          "transient": {
            "deleting": false
          }
        },
        "id": "_ULZrBRrnBsm"
      }
    },
    {
      "cell_type": "markdown",
      "source": [
        "**Current Challenge:**\n",
        "\n",
        "InnovaTech currently analyzes customer reviews using basic sentiment analysis tools, which only provide a superficial understanding of customer opinions. In the competitive landscape of the laptop market, a more detailed and aspect-oriented analysis is crucial. Understanding specific customer sentiments on different aspects of laptops, such as user screen, technical specifications, etc, which is vital for targeted product improvements."
      ],
      "metadata": {
        "nteract": {
          "transient": {
            "deleting": false
          }
        },
        "id": "lc6qBfwcnBsn"
      }
    },
    {
      "cell_type": "markdown",
      "source": [
        "**Objective:**\n",
        "\n",
        "The primary goal is to conduct a comprehensive aspect-based sentiment analysis of customer reviews for InnovaTech’s laptops, specifically focusing on three critical aspects: the laptop screen, keyboard, and mousepad. These components have been identified as crucial determinants of customer satisfaction and product usability. Project aims to provide nuanced insights into specific areas of customer satisfaction, dissatisfaction, and neutral feedback.The ultimate goal is to enhance overall product quality and customer experience, solidifying InnovaTech's position as a leader in the laptop market.\n",
        "\n"
      ],
      "metadata": {
        "nteract": {
          "transient": {
            "deleting": false
          }
        },
        "id": "CbegkY8mnBsn"
      }
    },
    {
      "cell_type": "markdown",
      "source": [
        "**Data Description:**\n",
        "\n",
        "The dataset titled \"laptop_reviews.csv\" is structured to facilitate aspect-based sentiment analysis for laptop reviews. Here's a brief description of the data columns:\n",
        "\n",
        "1. id: This column contains unique identifiers for each review entry. It helps in distinguishing and referencing individual reviews\n",
        "2. text: This column includes the actual text of the laptop reviews. The reviews are likely composed of customer opinions and experiences regarding different aspects of the laptops.\n",
        "3. aspects:Contains structured information about specific aspects mentioned in each review like 'RAM', 'screen', 'keyboard', 'mousepad', and others relevant to laptop features.\n",
        "4. category:Provide an additional layer of classification (positive, negative and neutral) for the mentioned aspects."
      ],
      "metadata": {
        "nteract": {
          "transient": {
            "deleting": false
          }
        },
        "id": "JqWH7lRXnBso"
      }
    },
    {
      "cell_type": "markdown",
      "source": [
        "# 1. Setup"
      ],
      "metadata": {
        "nteract": {
          "transient": {
            "deleting": false
          }
        },
        "id": "6jgtq-VpnBso"
      }
    },
    {
      "cell_type": "markdown",
      "source": [
        "### 1.1 Installation"
      ],
      "metadata": {
        "nteract": {
          "transient": {
            "deleting": false
          }
        },
        "id": "lwl5_LcGnBsp"
      }
    },
    {
      "cell_type": "code",
      "source": [
        "!pip install openai==0.28.1 tiktoken datasets session-info --quiet"
      ],
      "outputs": [],
      "execution_count": 243,
      "metadata": {
        "jupyter": {
          "source_hidden": false,
          "outputs_hidden": false
        },
        "nteract": {
          "transient": {
            "deleting": false
          }
        },
        "id": "iz8kOGKOnBsp"
      }
    },
    {
      "cell_type": "markdown",
      "source": [
        "### 1.2 Imports\n",
        "\n",
        "1. Import all Python packages required to access the Azure Open AI API.\n",
        "2. Import additional packages required to access datasets and create examples."
      ],
      "metadata": {
        "nteract": {
          "transient": {
            "deleting": false
          }
        },
        "id": "shZr8y_MnBsq"
      }
    },
    {
      "cell_type": "code",
      "source": [
        "import openai\n",
        "import json\n",
        "import random\n",
        "import tiktoken\n",
        "import session_info\n",
        "\n",
        "import pandas as pd\n",
        "import numpy as np\n",
        "\n",
        "from datasets import load_dataset\n",
        "from collections import Counter\n",
        "from tqdm import tqdm\n",
        "from sklearn.model_selection import train_test_split\n",
        "from sklearn.metrics import f1_score"
      ],
      "outputs": [],
      "execution_count": 244,
      "metadata": {
        "jupyter": {
          "source_hidden": false,
          "outputs_hidden": false
        },
        "nteract": {
          "transient": {
            "deleting": false
          }
        },
        "id": "oZ0T1UgCnBsr"
      }
    },
    {
      "cell_type": "code",
      "source": [
        "session_info.show()"
      ],
      "metadata": {
        "colab": {
          "base_uri": "https://localhost:8080/",
          "height": 34
        },
        "id": "oB70BswOnd70",
        "outputId": "27832f9f-71c1-45c8-9f17-379e5d89891b"
      },
      "execution_count": 245,
      "outputs": [
        {
          "output_type": "execute_result",
          "data": {
            "text/plain": [
              "<IPython.core.display.HTML object>"
            ],
            "text/html": [
              "<details>\n",
              "<summary>Click to view session information</summary>\n",
              "<pre>\n",
              "-----\n",
              "datasets            2.16.1\n",
              "numpy               1.23.5\n",
              "openai              0.28.1\n",
              "pandas              1.5.3\n",
              "session_info        1.0.0\n",
              "sklearn             1.2.2\n",
              "tiktoken            NA\n",
              "tqdm                4.66.1\n",
              "-----\n",
              "</pre>\n",
              "<details>\n",
              "<summary>Click to view modules imported as dependencies</summary>\n",
              "<pre>\n",
              "PIL                 9.4.0\n",
              "aiohttp             3.9.1\n",
              "aiosignal           1.3.1\n",
              "async_timeout       4.0.3\n",
              "attr                23.2.0\n",
              "backcall            0.2.0\n",
              "certifi             2023.11.17\n",
              "cffi                1.16.0\n",
              "chardet             5.2.0\n",
              "charset_normalizer  3.3.2\n",
              "cloudpickle         2.2.1\n",
              "cycler              0.12.1\n",
              "cython_runtime      NA\n",
              "dateutil            2.8.2\n",
              "debugpy             1.6.6\n",
              "decorator           4.4.2\n",
              "defusedxml          0.7.1\n",
              "dill                0.3.7\n",
              "filelock            3.13.1\n",
              "frozenlist          1.4.1\n",
              "fsspec              2023.6.0\n",
              "google              NA\n",
              "httplib2            0.22.0\n",
              "huggingface_hub     0.20.2\n",
              "idna                3.6\n",
              "ipykernel           5.5.6\n",
              "ipython_genutils    0.2.0\n",
              "ipywidgets          7.7.1\n",
              "joblib              1.3.2\n",
              "kiwisolver          1.4.5\n",
              "matplotlib          3.7.1\n",
              "matplotlib_inline   0.1.6\n",
              "mpl_toolkits        NA\n",
              "multidict           6.0.4\n",
              "multiprocess        0.70.15\n",
              "numexpr             2.8.8\n",
              "packaging           23.2\n",
              "pexpect             4.9.0\n",
              "pickleshare         0.7.5\n",
              "pkg_resources       NA\n",
              "platformdirs        4.1.0\n",
              "portpicker          NA\n",
              "prompt_toolkit      3.0.43\n",
              "psutil              5.9.5\n",
              "ptyprocess          0.7.0\n",
              "pyarrow             10.0.1\n",
              "pyarrow_hotfix      NA\n",
              "pydantic            1.10.13\n",
              "pydev_ipython       NA\n",
              "pydevconsole        NA\n",
              "pydevd              2.9.5\n",
              "pydevd_file_utils   NA\n",
              "pydevd_plugins      NA\n",
              "pydevd_tracing      NA\n",
              "pygments            2.16.1\n",
              "pyparsing           3.1.1\n",
              "pytz                2023.3.post1\n",
              "regex               2.5.129\n",
              "requests            2.31.0\n",
              "scipy               1.11.4\n",
              "setuptools          67.7.2\n",
              "sitecustomize       NA\n",
              "six                 1.16.0\n",
              "socks               1.7.1\n",
              "soundfile           0.12.1\n",
              "sphinxcontrib       NA\n",
              "storemagic          NA\n",
              "threadpoolctl       3.2.0\n",
              "tiktoken_ext        NA\n",
              "tornado             6.3.2\n",
              "traitlets           5.7.1\n",
              "typing_extensions   NA\n",
              "urllib3             2.0.7\n",
              "wcwidth             0.2.13\n",
              "xxhash              NA\n",
              "yaml                6.0.1\n",
              "yarl                1.9.4\n",
              "zmq                 23.2.1\n",
              "zoneinfo            NA\n",
              "</pre>\n",
              "</details> <!-- seems like this ends pre, so might as well be explicit -->\n",
              "<pre>\n",
              "-----\n",
              "IPython             7.34.0\n",
              "jupyter_client      6.1.12\n",
              "jupyter_core        5.7.1\n",
              "notebook            6.5.5\n",
              "-----\n",
              "Python 3.10.12 (main, Nov 20 2023, 15:14:05) [GCC 11.4.0]\n",
              "Linux-6.1.58+-x86_64-with-glibc2.35\n",
              "-----\n",
              "Session information updated at 2024-01-17 22:02\n",
              "</pre>\n",
              "</details>"
            ]
          },
          "metadata": {},
          "execution_count": 245
        }
      ]
    },
    {
      "cell_type": "markdown",
      "source": [
        "### 1.3 Authentication"
      ],
      "metadata": {
        "nteract": {
          "transient": {
            "deleting": false
          }
        },
        "id": "Nc2Xo3wjnBsr"
      }
    },
    {
      "cell_type": "code",
      "source": [
        "%%writefile config.json\n",
        "{\n",
        "  \"AZURE_OPENAI_KEY\":\"866cfd8261f2498baed071cb4cf246c6\",\n",
        "  \"AZURE_OPENAI_BASE\":\"https://shubhro-openai-demo-check.openai.azure.com/\",\n",
        "  \"AZURE_OPENAI_APITYPE\":\"azure\",\n",
        "  \"AZURE_OPENAI_APIVERSION\":\"2023-07-01-preview\",\n",
        "  \"CHATGPT_MODEL\":\"shubhro-mls-deployment\"\n",
        "}"
      ],
      "metadata": {
        "colab": {
          "base_uri": "https://localhost:8080/"
        },
        "id": "Cff2n3PgnSMF",
        "outputId": "9945b7fc-a4a5-4678-dd71-2f097ebdd7a4"
      },
      "execution_count": 246,
      "outputs": [
        {
          "output_type": "stream",
          "name": "stdout",
          "text": [
            "Overwriting config.json\n"
          ]
        }
      ]
    },
    {
      "cell_type": "code",
      "source": [
        "with open('config.json', 'r') as az_creds:\n",
        "    data = az_creds.read()"
      ],
      "outputs": [],
      "execution_count": 247,
      "metadata": {
        "jupyter": {
          "source_hidden": false,
          "outputs_hidden": false
        },
        "nteract": {
          "transient": {
            "deleting": false
          }
        },
        "id": "h2ttY9APnBsr"
      }
    },
    {
      "cell_type": "code",
      "source": [
        "creds = json.loads(data)"
      ],
      "outputs": [],
      "execution_count": 248,
      "metadata": {
        "jupyter": {
          "source_hidden": false,
          "outputs_hidden": false
        },
        "nteract": {
          "transient": {
            "deleting": false
          }
        },
        "id": "bnu7h8UDnBsr"
      }
    },
    {
      "cell_type": "code",
      "source": [
        "openai.api_key = creds[\"AZURE_OPENAI_KEY\"]\n",
        "openai.api_base = creds[\"AZURE_OPENAI_BASE\"]\n",
        "openai.api_type = creds[\"AZURE_OPENAI_APITYPE\"]\n",
        "openai.api_version = creds[\"AZURE_OPENAI_APIVERSION\"]"
      ],
      "outputs": [],
      "execution_count": 249,
      "metadata": {
        "jupyter": {
          "source_hidden": false,
          "outputs_hidden": false
        },
        "nteract": {
          "transient": {
            "deleting": false
          }
        },
        "id": "hkrMuNfynBss"
      }
    },
    {
      "cell_type": "code",
      "source": [
        "chat_model_id = creds[\"CHATGPT_MODEL\"]"
      ],
      "outputs": [],
      "execution_count": 250,
      "metadata": {
        "jupyter": {
          "source_hidden": false,
          "outputs_hidden": false
        },
        "nteract": {
          "transient": {
            "deleting": false
          }
        },
        "id": "q5ytCohPnBss"
      }
    },
    {
      "cell_type": "markdown",
      "source": [
        "### 1.4 Utilities\n",
        "\n",
        "Define token counter to keep track of the completion window available in the prompt."
      ],
      "metadata": {
        "nteract": {
          "transient": {
            "deleting": false
          }
        },
        "id": "klRfsiQTnBss"
      }
    },
    {
      "cell_type": "code",
      "source": [
        "def num_tokens_from_messages(messages):\n",
        "\n",
        "    \"\"\"\n",
        "    Return the number of tokens used by a list of messages.\n",
        "    Adapted from the Open AI cookbook token counter\n",
        "    \"\"\"\n",
        "\n",
        "    encoding = tiktoken.encoding_for_model(\"gpt-3.5-turbo\")\n",
        "\n",
        "    # Each message is sandwiched with <|start|>role and <|end|>\n",
        "    # Hence, messages look like: <|start|>system or user or assistant{message}<|end|>\n",
        "\n",
        "    tokens_per_message = 3 # token1:<|start|>, token2:system(or user or assistant), token3:<|end|>\n",
        "\n",
        "    num_tokens = 0\n",
        "\n",
        "    for message in messages:\n",
        "        num_tokens += tokens_per_message\n",
        "        for key, value in message.items():\n",
        "            num_tokens += len(encoding.encode(value))\n",
        "\n",
        "    num_tokens += 3  # every reply is primed with <|start|>assistant<|message|>\n",
        "\n",
        "    return num_tokens"
      ],
      "outputs": [],
      "execution_count": 251,
      "metadata": {
        "jupyter": {
          "source_hidden": false,
          "outputs_hidden": false
        },
        "nteract": {
          "transient": {
            "deleting": false
          }
        },
        "id": "MCm_-sBrnBss"
      }
    },
    {
      "cell_type": "markdown",
      "source": [
        "# Task: Aspect-Based Sentiment Analysis (ABSA)"
      ],
      "metadata": {
        "nteract": {
          "transient": {
            "deleting": false
          }
        },
        "id": "ku0FzaJ5nBss"
      }
    },
    {
      "cell_type": "markdown",
      "source": [
        "### Step 1: Define objectives & Metrics\n",
        "\n",
        "To evaluate model performance, we judge the accuracy of the aspects + sentiment assignnment per aspect.For example, if aspects identified by the LLM do not match the ground truth for a specific input, we count this prediction to be incorrect. A correct prediction is one where all the aspects are correctly idenfied and further the sentiment assignment for each aspect is also correctly identified"
      ],
      "metadata": {
        "nteract": {
          "transient": {
            "deleting": false
          }
        },
        "id": "2wQaki1YnBss"
      }
    },
    {
      "cell_type": "code",
      "source": [
        "def compute_accuracy(gold_examples, model_predictions, ground_truths):\n",
        "\n",
        "    \"\"\"\n",
        "    Return the accuracy score comparing the model predictions and ground truth\n",
        "    for ABSA. We look for exact matches between the model predictions on all the\n",
        "    aspects and sentiments for these aspects in the ground truth.\n",
        "\n",
        "    Args:\n",
        "        gold_examples (str): JSON string with list of gold examples\n",
        "        model_predictions (List): Nested list of ABSA predictions\n",
        "        ground_truths (List): Nested list of ABSA annotations\n",
        "\n",
        "    Output:\n",
        "        accuracy (float): Exact matches of model predictions and ground truths\n",
        "    \"\"\"\n",
        "    # Initialize variables to keep track of correct and total predictions\n",
        "    correct_predictions = 0\n",
        "    total_predictions = len(gold_examples)\n",
        "\n",
        "    # Iterate through each prediction and ground truth pair\n",
        "    for pred, truth in zip(model_predictions, ground_truths):\n",
        "        #print(\"pred from model_predictions --- \",pred)\n",
        "        #print(\"truth from ground_truths ---- \",truth)\n",
        "        if pred == truth:\n",
        "            #print(\"entered for this compare in compute_accuracy\")\n",
        "            correct_predictions += 1\n",
        "\n",
        "    # Calculate accuracy as the ratio of correct predictions to total predictions\n",
        "    accuracy = correct_predictions / total_predictions\n",
        "\n",
        "    return accuracy"
      ],
      "outputs": [],
      "execution_count": 252,
      "metadata": {
        "jupyter": {
          "source_hidden": false,
          "outputs_hidden": false
        },
        "nteract": {
          "transient": {
            "deleting": false
          }
        },
        "id": "GtsY6wMunBss"
      }
    },
    {
      "cell_type": "markdown",
      "source": [
        "### Step 2: Assemble Data\n",
        "\n",
        "1. Use \"laptop_review.csv\" dataset.\n",
        "2. Identify distribution of aspects in examples.\n",
        "3. Identify distribution of aspects in gold examples."
      ],
      "metadata": {
        "nteract": {
          "transient": {
            "deleting": false
          }
        },
        "id": "iYF1BCIXnBss"
      }
    },
    {
      "cell_type": "code",
      "source": [
        "# pandas function \"read_csv\" to read the reviews file.\n",
        "aspect_based_laptop_reviews_df = pd.read_csv(\"laptop_reviews.csv\")"
      ],
      "outputs": [],
      "execution_count": 253,
      "metadata": {
        "jupyter": {
          "source_hidden": false,
          "outputs_hidden": false
        },
        "nteract": {
          "transient": {
            "deleting": false
          }
        },
        "id": "c9uPXk2wnBss"
      }
    },
    {
      "cell_type": "code",
      "source": [
        "aspect_based_laptop_reviews_df #snapshot"
      ],
      "metadata": {
        "colab": {
          "base_uri": "https://localhost:8080/",
          "height": 423
        },
        "id": "yYNbDO1IsBVI",
        "outputId": "2cc13667-f27f-4429-e1b0-5bf087c6104e"
      },
      "execution_count": 254,
      "outputs": [
        {
          "output_type": "execute_result",
          "data": {
            "text/plain": [
              "     id                                               text  \\\n",
              "0     1             The RAM is good. The design is decent.   \n",
              "1     2  The screen is amazing. The design is impressiv...   \n",
              "2     3  The GPU is adequate. The camera is average. Th...   \n",
              "3     4  The RAM is terrible. The battery is fair. The ...   \n",
              "4     5  The GPU is terrible. The keyboard is poor. The...   \n",
              "..  ...                                                ...   \n",
              "95   96  The camera is terrible. The hardware is adequa...   \n",
              "96   97  The screen is impressive. The keyboard is stan...   \n",
              "97   98  The software is excellent. The mousepad is dis...   \n",
              "98   99  The mousepad is impressive. The design is grea...   \n",
              "99  100  The mousepad is good. The GPU is fair. The key...   \n",
              "\n",
              "                                              aspects  \\\n",
              "0   {'term':array(['RAM','design'],dtype=object),'...   \n",
              "1   {'term':array(['screen','design','mousepad'],d...   \n",
              "2   {'term':array(['GPU','camera','software','keyb...   \n",
              "3   {'term':array(['RAM','battery','design'],dtype...   \n",
              "4   {'term':array(['GPU','keyboard','mousepad'],dt...   \n",
              "..                                                ...   \n",
              "95  {'term':array(['camera','hardware','mousepad']...   \n",
              "96  {'term':array(['screen','keyboard'],dtype=obje...   \n",
              "97  {'term':array(['software','mousepad','GPU'],dt...   \n",
              "98  {'term':array(['mousepad','design','camera'],d...   \n",
              "99  {'term':array(['mousepad','GPU','keyboard'],dt...   \n",
              "\n",
              "                                             category  \n",
              "0   {'category':array(['RAM','design'],dtype=objec...  \n",
              "1   {'category':array(['screen','design','mousepad...  \n",
              "2   {'category':array(['GPU','camera','software','...  \n",
              "3   {'category':array(['RAM','battery','design'],d...  \n",
              "4   {'category':array(['GPU','keyboard','mousepad'...  \n",
              "..                                                ...  \n",
              "95  {'category':array(['camera','hardware','mousep...  \n",
              "96  {'category':array(['screen','keyboard'],dtype=...  \n",
              "97  {'category':array(['software','mousepad','GPU'...  \n",
              "98  {'category':array(['mousepad','design','camera...  \n",
              "99  {'category':array(['mousepad','GPU','keyboard'...  \n",
              "\n",
              "[100 rows x 4 columns]"
            ],
            "text/html": [
              "\n",
              "  <div id=\"df-d7fa8abf-9143-4138-b74f-452f05fd16e8\" class=\"colab-df-container\">\n",
              "    <div>\n",
              "<style scoped>\n",
              "    .dataframe tbody tr th:only-of-type {\n",
              "        vertical-align: middle;\n",
              "    }\n",
              "\n",
              "    .dataframe tbody tr th {\n",
              "        vertical-align: top;\n",
              "    }\n",
              "\n",
              "    .dataframe thead th {\n",
              "        text-align: right;\n",
              "    }\n",
              "</style>\n",
              "<table border=\"1\" class=\"dataframe\">\n",
              "  <thead>\n",
              "    <tr style=\"text-align: right;\">\n",
              "      <th></th>\n",
              "      <th>id</th>\n",
              "      <th>text</th>\n",
              "      <th>aspects</th>\n",
              "      <th>category</th>\n",
              "    </tr>\n",
              "  </thead>\n",
              "  <tbody>\n",
              "    <tr>\n",
              "      <th>0</th>\n",
              "      <td>1</td>\n",
              "      <td>The RAM is good. The design is decent.</td>\n",
              "      <td>{'term':array(['RAM','design'],dtype=object),'...</td>\n",
              "      <td>{'category':array(['RAM','design'],dtype=objec...</td>\n",
              "    </tr>\n",
              "    <tr>\n",
              "      <th>1</th>\n",
              "      <td>2</td>\n",
              "      <td>The screen is amazing. The design is impressiv...</td>\n",
              "      <td>{'term':array(['screen','design','mousepad'],d...</td>\n",
              "      <td>{'category':array(['screen','design','mousepad...</td>\n",
              "    </tr>\n",
              "    <tr>\n",
              "      <th>2</th>\n",
              "      <td>3</td>\n",
              "      <td>The GPU is adequate. The camera is average. Th...</td>\n",
              "      <td>{'term':array(['GPU','camera','software','keyb...</td>\n",
              "      <td>{'category':array(['GPU','camera','software','...</td>\n",
              "    </tr>\n",
              "    <tr>\n",
              "      <th>3</th>\n",
              "      <td>4</td>\n",
              "      <td>The RAM is terrible. The battery is fair. The ...</td>\n",
              "      <td>{'term':array(['RAM','battery','design'],dtype...</td>\n",
              "      <td>{'category':array(['RAM','battery','design'],d...</td>\n",
              "    </tr>\n",
              "    <tr>\n",
              "      <th>4</th>\n",
              "      <td>5</td>\n",
              "      <td>The GPU is terrible. The keyboard is poor. The...</td>\n",
              "      <td>{'term':array(['GPU','keyboard','mousepad'],dt...</td>\n",
              "      <td>{'category':array(['GPU','keyboard','mousepad'...</td>\n",
              "    </tr>\n",
              "    <tr>\n",
              "      <th>...</th>\n",
              "      <td>...</td>\n",
              "      <td>...</td>\n",
              "      <td>...</td>\n",
              "      <td>...</td>\n",
              "    </tr>\n",
              "    <tr>\n",
              "      <th>95</th>\n",
              "      <td>96</td>\n",
              "      <td>The camera is terrible. The hardware is adequa...</td>\n",
              "      <td>{'term':array(['camera','hardware','mousepad']...</td>\n",
              "      <td>{'category':array(['camera','hardware','mousep...</td>\n",
              "    </tr>\n",
              "    <tr>\n",
              "      <th>96</th>\n",
              "      <td>97</td>\n",
              "      <td>The screen is impressive. The keyboard is stan...</td>\n",
              "      <td>{'term':array(['screen','keyboard'],dtype=obje...</td>\n",
              "      <td>{'category':array(['screen','keyboard'],dtype=...</td>\n",
              "    </tr>\n",
              "    <tr>\n",
              "      <th>97</th>\n",
              "      <td>98</td>\n",
              "      <td>The software is excellent. The mousepad is dis...</td>\n",
              "      <td>{'term':array(['software','mousepad','GPU'],dt...</td>\n",
              "      <td>{'category':array(['software','mousepad','GPU'...</td>\n",
              "    </tr>\n",
              "    <tr>\n",
              "      <th>98</th>\n",
              "      <td>99</td>\n",
              "      <td>The mousepad is impressive. The design is grea...</td>\n",
              "      <td>{'term':array(['mousepad','design','camera'],d...</td>\n",
              "      <td>{'category':array(['mousepad','design','camera...</td>\n",
              "    </tr>\n",
              "    <tr>\n",
              "      <th>99</th>\n",
              "      <td>100</td>\n",
              "      <td>The mousepad is good. The GPU is fair. The key...</td>\n",
              "      <td>{'term':array(['mousepad','GPU','keyboard'],dt...</td>\n",
              "      <td>{'category':array(['mousepad','GPU','keyboard'...</td>\n",
              "    </tr>\n",
              "  </tbody>\n",
              "</table>\n",
              "<p>100 rows × 4 columns</p>\n",
              "</div>\n",
              "    <div class=\"colab-df-buttons\">\n",
              "\n",
              "  <div class=\"colab-df-container\">\n",
              "    <button class=\"colab-df-convert\" onclick=\"convertToInteractive('df-d7fa8abf-9143-4138-b74f-452f05fd16e8')\"\n",
              "            title=\"Convert this dataframe to an interactive table.\"\n",
              "            style=\"display:none;\">\n",
              "\n",
              "  <svg xmlns=\"http://www.w3.org/2000/svg\" height=\"24px\" viewBox=\"0 -960 960 960\">\n",
              "    <path d=\"M120-120v-720h720v720H120Zm60-500h600v-160H180v160Zm220 220h160v-160H400v160Zm0 220h160v-160H400v160ZM180-400h160v-160H180v160Zm440 0h160v-160H620v160ZM180-180h160v-160H180v160Zm440 0h160v-160H620v160Z\"/>\n",
              "  </svg>\n",
              "    </button>\n",
              "\n",
              "  <style>\n",
              "    .colab-df-container {\n",
              "      display:flex;\n",
              "      gap: 12px;\n",
              "    }\n",
              "\n",
              "    .colab-df-convert {\n",
              "      background-color: #E8F0FE;\n",
              "      border: none;\n",
              "      border-radius: 50%;\n",
              "      cursor: pointer;\n",
              "      display: none;\n",
              "      fill: #1967D2;\n",
              "      height: 32px;\n",
              "      padding: 0 0 0 0;\n",
              "      width: 32px;\n",
              "    }\n",
              "\n",
              "    .colab-df-convert:hover {\n",
              "      background-color: #E2EBFA;\n",
              "      box-shadow: 0px 1px 2px rgba(60, 64, 67, 0.3), 0px 1px 3px 1px rgba(60, 64, 67, 0.15);\n",
              "      fill: #174EA6;\n",
              "    }\n",
              "\n",
              "    .colab-df-buttons div {\n",
              "      margin-bottom: 4px;\n",
              "    }\n",
              "\n",
              "    [theme=dark] .colab-df-convert {\n",
              "      background-color: #3B4455;\n",
              "      fill: #D2E3FC;\n",
              "    }\n",
              "\n",
              "    [theme=dark] .colab-df-convert:hover {\n",
              "      background-color: #434B5C;\n",
              "      box-shadow: 0px 1px 3px 1px rgba(0, 0, 0, 0.15);\n",
              "      filter: drop-shadow(0px 1px 2px rgba(0, 0, 0, 0.3));\n",
              "      fill: #FFFFFF;\n",
              "    }\n",
              "  </style>\n",
              "\n",
              "    <script>\n",
              "      const buttonEl =\n",
              "        document.querySelector('#df-d7fa8abf-9143-4138-b74f-452f05fd16e8 button.colab-df-convert');\n",
              "      buttonEl.style.display =\n",
              "        google.colab.kernel.accessAllowed ? 'block' : 'none';\n",
              "\n",
              "      async function convertToInteractive(key) {\n",
              "        const element = document.querySelector('#df-d7fa8abf-9143-4138-b74f-452f05fd16e8');\n",
              "        const dataTable =\n",
              "          await google.colab.kernel.invokeFunction('convertToInteractive',\n",
              "                                                    [key], {});\n",
              "        if (!dataTable) return;\n",
              "\n",
              "        const docLinkHtml = 'Like what you see? Visit the ' +\n",
              "          '<a target=\"_blank\" href=https://colab.research.google.com/notebooks/data_table.ipynb>data table notebook</a>'\n",
              "          + ' to learn more about interactive tables.';\n",
              "        element.innerHTML = '';\n",
              "        dataTable['output_type'] = 'display_data';\n",
              "        await google.colab.output.renderOutput(dataTable, element);\n",
              "        const docLink = document.createElement('div');\n",
              "        docLink.innerHTML = docLinkHtml;\n",
              "        element.appendChild(docLink);\n",
              "      }\n",
              "    </script>\n",
              "  </div>\n",
              "\n",
              "\n",
              "<div id=\"df-02a2d9ae-2728-414b-b1d5-0be6cd8f9d7a\">\n",
              "  <button class=\"colab-df-quickchart\" onclick=\"quickchart('df-02a2d9ae-2728-414b-b1d5-0be6cd8f9d7a')\"\n",
              "            title=\"Suggest charts\"\n",
              "            style=\"display:none;\">\n",
              "\n",
              "<svg xmlns=\"http://www.w3.org/2000/svg\" height=\"24px\"viewBox=\"0 0 24 24\"\n",
              "     width=\"24px\">\n",
              "    <g>\n",
              "        <path d=\"M19 3H5c-1.1 0-2 .9-2 2v14c0 1.1.9 2 2 2h14c1.1 0 2-.9 2-2V5c0-1.1-.9-2-2-2zM9 17H7v-7h2v7zm4 0h-2V7h2v10zm4 0h-2v-4h2v4z\"/>\n",
              "    </g>\n",
              "</svg>\n",
              "  </button>\n",
              "\n",
              "<style>\n",
              "  .colab-df-quickchart {\n",
              "      --bg-color: #E8F0FE;\n",
              "      --fill-color: #1967D2;\n",
              "      --hover-bg-color: #E2EBFA;\n",
              "      --hover-fill-color: #174EA6;\n",
              "      --disabled-fill-color: #AAA;\n",
              "      --disabled-bg-color: #DDD;\n",
              "  }\n",
              "\n",
              "  [theme=dark] .colab-df-quickchart {\n",
              "      --bg-color: #3B4455;\n",
              "      --fill-color: #D2E3FC;\n",
              "      --hover-bg-color: #434B5C;\n",
              "      --hover-fill-color: #FFFFFF;\n",
              "      --disabled-bg-color: #3B4455;\n",
              "      --disabled-fill-color: #666;\n",
              "  }\n",
              "\n",
              "  .colab-df-quickchart {\n",
              "    background-color: var(--bg-color);\n",
              "    border: none;\n",
              "    border-radius: 50%;\n",
              "    cursor: pointer;\n",
              "    display: none;\n",
              "    fill: var(--fill-color);\n",
              "    height: 32px;\n",
              "    padding: 0;\n",
              "    width: 32px;\n",
              "  }\n",
              "\n",
              "  .colab-df-quickchart:hover {\n",
              "    background-color: var(--hover-bg-color);\n",
              "    box-shadow: 0 1px 2px rgba(60, 64, 67, 0.3), 0 1px 3px 1px rgba(60, 64, 67, 0.15);\n",
              "    fill: var(--button-hover-fill-color);\n",
              "  }\n",
              "\n",
              "  .colab-df-quickchart-complete:disabled,\n",
              "  .colab-df-quickchart-complete:disabled:hover {\n",
              "    background-color: var(--disabled-bg-color);\n",
              "    fill: var(--disabled-fill-color);\n",
              "    box-shadow: none;\n",
              "  }\n",
              "\n",
              "  .colab-df-spinner {\n",
              "    border: 2px solid var(--fill-color);\n",
              "    border-color: transparent;\n",
              "    border-bottom-color: var(--fill-color);\n",
              "    animation:\n",
              "      spin 1s steps(1) infinite;\n",
              "  }\n",
              "\n",
              "  @keyframes spin {\n",
              "    0% {\n",
              "      border-color: transparent;\n",
              "      border-bottom-color: var(--fill-color);\n",
              "      border-left-color: var(--fill-color);\n",
              "    }\n",
              "    20% {\n",
              "      border-color: transparent;\n",
              "      border-left-color: var(--fill-color);\n",
              "      border-top-color: var(--fill-color);\n",
              "    }\n",
              "    30% {\n",
              "      border-color: transparent;\n",
              "      border-left-color: var(--fill-color);\n",
              "      border-top-color: var(--fill-color);\n",
              "      border-right-color: var(--fill-color);\n",
              "    }\n",
              "    40% {\n",
              "      border-color: transparent;\n",
              "      border-right-color: var(--fill-color);\n",
              "      border-top-color: var(--fill-color);\n",
              "    }\n",
              "    60% {\n",
              "      border-color: transparent;\n",
              "      border-right-color: var(--fill-color);\n",
              "    }\n",
              "    80% {\n",
              "      border-color: transparent;\n",
              "      border-right-color: var(--fill-color);\n",
              "      border-bottom-color: var(--fill-color);\n",
              "    }\n",
              "    90% {\n",
              "      border-color: transparent;\n",
              "      border-bottom-color: var(--fill-color);\n",
              "    }\n",
              "  }\n",
              "</style>\n",
              "\n",
              "  <script>\n",
              "    async function quickchart(key) {\n",
              "      const quickchartButtonEl =\n",
              "        document.querySelector('#' + key + ' button');\n",
              "      quickchartButtonEl.disabled = true;  // To prevent multiple clicks.\n",
              "      quickchartButtonEl.classList.add('colab-df-spinner');\n",
              "      try {\n",
              "        const charts = await google.colab.kernel.invokeFunction(\n",
              "            'suggestCharts', [key], {});\n",
              "      } catch (error) {\n",
              "        console.error('Error during call to suggestCharts:', error);\n",
              "      }\n",
              "      quickchartButtonEl.classList.remove('colab-df-spinner');\n",
              "      quickchartButtonEl.classList.add('colab-df-quickchart-complete');\n",
              "    }\n",
              "    (() => {\n",
              "      let quickchartButtonEl =\n",
              "        document.querySelector('#df-02a2d9ae-2728-414b-b1d5-0be6cd8f9d7a button');\n",
              "      quickchartButtonEl.style.display =\n",
              "        google.colab.kernel.accessAllowed ? 'block' : 'none';\n",
              "    })();\n",
              "  </script>\n",
              "</div>\n",
              "\n",
              "  <div id=\"id_1e4c3369-f93c-4784-bbf2-625e860b379e\">\n",
              "    <style>\n",
              "      .colab-df-generate {\n",
              "        background-color: #E8F0FE;\n",
              "        border: none;\n",
              "        border-radius: 50%;\n",
              "        cursor: pointer;\n",
              "        display: none;\n",
              "        fill: #1967D2;\n",
              "        height: 32px;\n",
              "        padding: 0 0 0 0;\n",
              "        width: 32px;\n",
              "      }\n",
              "\n",
              "      .colab-df-generate:hover {\n",
              "        background-color: #E2EBFA;\n",
              "        box-shadow: 0px 1px 2px rgba(60, 64, 67, 0.3), 0px 1px 3px 1px rgba(60, 64, 67, 0.15);\n",
              "        fill: #174EA6;\n",
              "      }\n",
              "\n",
              "      [theme=dark] .colab-df-generate {\n",
              "        background-color: #3B4455;\n",
              "        fill: #D2E3FC;\n",
              "      }\n",
              "\n",
              "      [theme=dark] .colab-df-generate:hover {\n",
              "        background-color: #434B5C;\n",
              "        box-shadow: 0px 1px 3px 1px rgba(0, 0, 0, 0.15);\n",
              "        filter: drop-shadow(0px 1px 2px rgba(0, 0, 0, 0.3));\n",
              "        fill: #FFFFFF;\n",
              "      }\n",
              "    </style>\n",
              "    <button class=\"colab-df-generate\" onclick=\"generateWithVariable('aspect_based_laptop_reviews_df')\"\n",
              "            title=\"Generate code using this dataframe.\"\n",
              "            style=\"display:none;\">\n",
              "\n",
              "  <svg xmlns=\"http://www.w3.org/2000/svg\" height=\"24px\"viewBox=\"0 0 24 24\"\n",
              "       width=\"24px\">\n",
              "    <path d=\"M7,19H8.4L18.45,9,17,7.55,7,17.6ZM5,21V16.75L18.45,3.32a2,2,0,0,1,2.83,0l1.4,1.43a1.91,1.91,0,0,1,.58,1.4,1.91,1.91,0,0,1-.58,1.4L9.25,21ZM18.45,9,17,7.55Zm-12,3A5.31,5.31,0,0,0,4.9,8.1,5.31,5.31,0,0,0,1,6.5,5.31,5.31,0,0,0,4.9,4.9,5.31,5.31,0,0,0,6.5,1,5.31,5.31,0,0,0,8.1,4.9,5.31,5.31,0,0,0,12,6.5,5.46,5.46,0,0,0,6.5,12Z\"/>\n",
              "  </svg>\n",
              "    </button>\n",
              "    <script>\n",
              "      (() => {\n",
              "      const buttonEl =\n",
              "        document.querySelector('#id_1e4c3369-f93c-4784-bbf2-625e860b379e button.colab-df-generate');\n",
              "      buttonEl.style.display =\n",
              "        google.colab.kernel.accessAllowed ? 'block' : 'none';\n",
              "\n",
              "      buttonEl.onclick = () => {\n",
              "        google.colab.notebook.generateWithVariable('aspect_based_laptop_reviews_df');\n",
              "      }\n",
              "      })();\n",
              "    </script>\n",
              "  </div>\n",
              "\n",
              "    </div>\n",
              "  </div>\n"
            ]
          },
          "metadata": {},
          "execution_count": 254
        }
      ]
    },
    {
      "cell_type": "markdown",
      "source": [
        "create examples and gold examples from this dataset, this curated dataset is stored in a format appropriate for reuse (e.g., JSON). To select gold examples for this session, I sample randomly from the test data using a random_state=27"
      ],
      "metadata": {
        "id": "sU3-74U-Lz20"
      }
    },
    {
      "cell_type": "code",
      "source": [
        "laptop_reviews_examples_df, laptop_reviews_gold_examples_df = train_test_split(\n",
        "    aspect_based_laptop_reviews_df, #<- the full dataset\n",
        "    test_size=0.2, #<- 20% random sample selected for gold examples\n",
        "    random_state=27 #<- ensures that the splits are the same for every session\n",
        ")"
      ],
      "metadata": {
        "id": "0eTY7I0qsY55"
      },
      "execution_count": 255,
      "outputs": []
    },
    {
      "cell_type": "code",
      "source": [
        "(aspect_based_laptop_reviews_df.shape, laptop_reviews_examples_df.shape, laptop_reviews_gold_examples_df.shape)"
      ],
      "metadata": {
        "colab": {
          "base_uri": "https://localhost:8080/"
        },
        "id": "_QsY1-GXtJY2",
        "outputId": "a501a49d-4f5a-410d-ac35-370fd3d0c090"
      },
      "execution_count": 256,
      "outputs": [
        {
          "output_type": "execute_result",
          "data": {
            "text/plain": [
              "((100, 4), (80, 4), (20, 4))"
            ]
          },
          "metadata": {},
          "execution_count": 256
        }
      ]
    },
    {
      "cell_type": "markdown",
      "source": [
        "I am choosing aspects : the laptop screen, keyboard, and mousepad] as the primary goal (mentioned in \"Objective\") is to conduct a comprehensive aspect-based sentiment analysis of customer reviews for InnovaTech’s laptops, specifically focusing on three critical aspects: the laptop screen, keyboard, and mousepad.\n",
        "To determine how many reviews are identified to contain the aspects mentioned in the task. One way to do this is to create a lookup index with each of the aspects as keys and a list of all reviews that are annotated with the aspect as the value.\n",
        "for this I created a lookup index that is dictionary of aspects in the task."
      ],
      "metadata": {
        "id": "Ixnx_3yvbBK6"
      }
    },
    {
      "cell_type": "code",
      "source": [
        "examples_aspect_index = {\n",
        "    'screen': [],\n",
        "    'keyboard': [],\n",
        "    'mousepad': []\n",
        "}\n",
        "\n",
        "gold_examples_aspect_index = {\n",
        "    'screen': [],\n",
        "    'keyboard': [],\n",
        "    'mousepad': []\n",
        "}"
      ],
      "metadata": {
        "id": "DZz_sUM0tz-2"
      },
      "execution_count": 257,
      "outputs": []
    },
    {
      "cell_type": "code",
      "source": [
        "for id, category in zip(laptop_reviews_examples_df.id, laptop_reviews_examples_df.category):\n",
        "    for key in examples_aspect_index.keys():\n",
        "        #if key in category['category'].tolist():\n",
        "        if key in category:\n",
        "            examples_aspect_index[key].append(id)"
      ],
      "metadata": {
        "id": "zuq6rLnOvmpv"
      },
      "execution_count": 258,
      "outputs": []
    },
    {
      "cell_type": "code",
      "source": [
        "# Dictionary to store first 10 values for each key\n",
        "first_10_values = {}\n",
        "\n",
        "for key, values in examples_aspect_index.items():\n",
        "    # Get the first 10 values; if less than 10, get all\n",
        "    first_10 = values[:10]\n",
        "    first_10_values[key] = first_10\n",
        "\n",
        "# first_10_values now contains the first 10 values for each key\n",
        "print(first_10_values)"
      ],
      "metadata": {
        "colab": {
          "base_uri": "https://localhost:8080/"
        },
        "id": "bmPuapJg7wIT",
        "outputId": "aa9093e3-0774-4b26-c704-c4888d0abd87"
      },
      "execution_count": 259,
      "outputs": [
        {
          "output_type": "stream",
          "name": "stdout",
          "text": [
            "{'screen': [91, 94, 87, 21, 36, 22, 27, 15, 39, 2], 'keyboard': [94, 92, 87, 21, 46, 76, 75, 37, 29, 58], 'mousepad': [91, 19, 88, 92, 36, 13, 22, 27, 59, 2]}\n"
          ]
        }
      ]
    },
    {
      "cell_type": "markdown",
      "source": [
        "Distribution of aspects in examples"
      ],
      "metadata": {
        "id": "symnWyE4bfGU"
      }
    },
    {
      "cell_type": "code",
      "source": [
        "for key in examples_aspect_index:\n",
        "    print(f\"Number of examples for aspect {key}: {len(examples_aspect_index[key])}\")"
      ],
      "metadata": {
        "colab": {
          "base_uri": "https://localhost:8080/"
        },
        "id": "7pgTCZub780Y",
        "outputId": "adc24dcf-3928-49f3-9aec-8bf9fbc6f161"
      },
      "execution_count": 260,
      "outputs": [
        {
          "output_type": "stream",
          "name": "stdout",
          "text": [
            "Number of examples for aspect screen: 25\n",
            "Number of examples for aspect keyboard: 25\n",
            "Number of examples for aspect mousepad: 33\n"
          ]
        }
      ]
    },
    {
      "cell_type": "markdown",
      "source": [
        "Distribution of aspects in gold examples"
      ],
      "metadata": {
        "id": "JSiL8REh8Hqe"
      }
    },
    {
      "cell_type": "code",
      "source": [
        "for id, category in zip(laptop_reviews_gold_examples_df.id, laptop_reviews_gold_examples_df.category):\n",
        "    for key in gold_examples_aspect_index.keys():\n",
        "        if key in category:\n",
        "            gold_examples_aspect_index[key].append(id)"
      ],
      "metadata": {
        "id": "WL7Jh8FK7_NQ"
      },
      "execution_count": 261,
      "outputs": []
    },
    {
      "cell_type": "code",
      "source": [
        "for key in gold_examples_aspect_index:\n",
        "    print(f\"Number of examples for aspect {key}: {len(gold_examples_aspect_index[key])}\")"
      ],
      "metadata": {
        "colab": {
          "base_uri": "https://localhost:8080/"
        },
        "id": "5VidojEn8dHY",
        "outputId": "48b2a1e6-e1b3-491d-b58b-5012811d4066"
      },
      "execution_count": 262,
      "outputs": [
        {
          "output_type": "stream",
          "name": "stdout",
          "text": [
            "Number of examples for aspect screen: 9\n",
            "Number of examples for aspect keyboard: 6\n",
            "Number of examples for aspect mousepad: 9\n"
          ]
        }
      ]
    },
    {
      "cell_type": "code",
      "source": [
        "columns_to_select = ['id', 'text', 'category']"
      ],
      "metadata": {
        "id": "CIqOOmTX8lAb"
      },
      "execution_count": 263,
      "outputs": []
    },
    {
      "cell_type": "code",
      "source": [
        "gold_examples = json.loads((\n",
        "        laptop_reviews_gold_examples_df.loc[:, columns_to_select]\n",
        "                                           .sample(10, random_state=27) #<- ensures that gold examples are the same for every session\n",
        "                                           .to_json(orient='records')\n",
        "))"
      ],
      "metadata": {
        "id": "83af15dE8lxo"
      },
      "execution_count": 264,
      "outputs": []
    },
    {
      "cell_type": "code",
      "source": [
        "gold_examples[:2]"
      ],
      "metadata": {
        "colab": {
          "base_uri": "https://localhost:8080/"
        },
        "id": "0IcuPWMo885p",
        "outputId": "09cfb6e9-f33b-4b98-bab6-62bfc35b84e0"
      },
      "execution_count": 265,
      "outputs": [
        {
          "output_type": "execute_result",
          "data": {
            "text/plain": [
              "[{'id': 86,\n",
              "  'text': 'The RAM is amazing. The keyboard is great. The hardware is adequate. The screen is amazing.',\n",
              "  'category': \"{'category':array(['RAM','keyboard','hardware','screen'],dtype=object),'polarity':array(['positive','positive','neutral','positive'],dtype=object)}\"},\n",
              " {'id': 31,\n",
              "  'text': 'The RAM is decent. The hardware is amazing.',\n",
              "  'category': \"{'category':array(['RAM','hardware'],dtype=object),'polarity':array(['neutral','positive'],dtype=object)}\"}]"
            ]
          },
          "metadata": {},
          "execution_count": 265
        }
      ]
    },
    {
      "cell_type": "markdown",
      "source": [
        "change the category from a string containing array to a string containing list."
      ],
      "metadata": {
        "id": "S4zcs7inb_9c"
      }
    },
    {
      "cell_type": "code",
      "source": [
        "for example in gold_examples:\n",
        "    #example['category'] = example['category'].replace(\",dtype=object\", \"\")\n",
        "    example['category'] = example['category'].replace(\"array(\", \"\").replace(\",dtype=object\", \"\").replace(\")\", \"\")"
      ],
      "metadata": {
        "id": "9W7ubBP1iS2l"
      },
      "execution_count": 266,
      "outputs": []
    },
    {
      "cell_type": "code",
      "source": [
        "gold_examples[:2]"
      ],
      "metadata": {
        "colab": {
          "base_uri": "https://localhost:8080/"
        },
        "id": "2vD4S976ibmJ",
        "outputId": "32103828-3f32-4aad-807d-d6a94cc726d0"
      },
      "execution_count": 292,
      "outputs": [
        {
          "output_type": "execute_result",
          "data": {
            "text/plain": [
              "[{'id': 86,\n",
              "  'text': 'The RAM is amazing. The keyboard is great. The hardware is adequate. The screen is amazing.',\n",
              "  'category': \"{'category':['RAM','keyboard','hardware','screen'],'polarity':['positive','positive','neutral','positive']}\"},\n",
              " {'id': 31,\n",
              "  'text': 'The RAM is decent. The hardware is amazing.',\n",
              "  'category': \"{'category':['RAM','hardware'],'polarity':['neutral','positive']}\"}]"
            ]
          },
          "metadata": {},
          "execution_count": 292
        }
      ]
    },
    {
      "cell_type": "markdown",
      "source": [
        "### Step 3: Derive Prompt"
      ],
      "metadata": {
        "nteract": {
          "transient": {
            "deleting": false
          }
        },
        "id": "Igbs8wQVnBss"
      }
    },
    {
      "cell_type": "markdown",
      "source": [
        "#### Create prompts"
      ],
      "metadata": {
        "nteract": {
          "transient": {
            "deleting": false
          }
        },
        "id": "tFGbUJnEnBst"
      }
    },
    {
      "cell_type": "code",
      "source": [
        "user_message_template = \"\"\"```{laptop_review}```\"\"\""
      ],
      "metadata": {
        "id": "6BYNkUqe9MOX"
      },
      "execution_count": 268,
      "outputs": []
    },
    {
      "cell_type": "markdown",
      "source": [
        "**1. Zero-shot prompt**"
      ],
      "metadata": {
        "nteract": {
          "transient": {
            "deleting": false
          }
        },
        "id": "xIiO4N14nBst"
      }
    },
    {
      "cell_type": "code",
      "source": [
        "zero_shot_system_message = \"\"\"\n",
        "Perform aspect based sentiment analysis on laptop reviews presented in the input delimited by triple backticks, that is, ```.\n",
        "In each review there might be one or more of the following aspects: screen, keyboard, mousepad.\n",
        "For each review presented as input:\n",
        "- Identify if there are any of the 3 aspects (screen, keyboard, mousepad) present in the review.\n",
        "- Assign a sentiment polarity (positive, negative or neutral) for each aspect\n",
        "\n",
        "Arrange your response a JSON object with the following headers:\n",
        "- category:[list of aspects]\n",
        "- polarity:[list of corresponding polarities for each aspect]}\n",
        "\"\"\""
      ],
      "outputs": [],
      "execution_count": 269,
      "metadata": {
        "jupyter": {
          "source_hidden": false,
          "outputs_hidden": false
        },
        "nteract": {
          "transient": {
            "deleting": false
          }
        },
        "id": "fOfUChBHnBst"
      }
    },
    {
      "cell_type": "code",
      "source": [
        "zero_shot_prompt = [{'role':'system', 'content': zero_shot_system_message}]"
      ],
      "metadata": {
        "id": "Lm6-I0Pf-mxF"
      },
      "execution_count": 270,
      "outputs": []
    },
    {
      "cell_type": "code",
      "source": [
        "num_tokens_from_messages(zero_shot_prompt)"
      ],
      "metadata": {
        "colab": {
          "base_uri": "https://localhost:8080/"
        },
        "id": "yqRSC4Of-n1Z",
        "outputId": "a614c938-34e3-4590-8ace-aa75c6f18664"
      },
      "execution_count": 271,
      "outputs": [
        {
          "output_type": "execute_result",
          "data": {
            "text/plain": [
              "129"
            ]
          },
          "metadata": {},
          "execution_count": 271
        }
      ]
    },
    {
      "cell_type": "markdown",
      "source": [
        "**2.Few-shot prompt**"
      ],
      "metadata": {
        "nteract": {
          "transient": {
            "deleting": false
          }
        },
        "id": "OLdTFOkvnBst"
      }
    },
    {
      "cell_type": "code",
      "source": [
        "few_shot_system_message = \"\"\"\n",
        "Perform aspect based sentiment analysis on laptop reviews presented in the input delimited by triple backticks, that is, ```.\n",
        "In each review there might be one or more of the following aspects: screen, keyboard, mousepad.\n",
        "For each review presented as input:\n",
        "- Identify if there are any of the 3 aspects (screen, keyboard, mousepad) present in the review.\n",
        "- Assign a sentiment polarity (positive, negative or neutral) for each aspect\n",
        "\n",
        "Arrange your response a JSON object with the following headers:\n",
        "- category:[list of aspects]\n",
        "- polarity:[list of corresponding polarities for each aspect]}\n",
        "\"\"\""
      ],
      "outputs": [],
      "execution_count": 272,
      "metadata": {
        "jupyter": {
          "source_hidden": false,
          "outputs_hidden": false
        },
        "nteract": {
          "transient": {
            "deleting": false
          }
        },
        "id": "Ndoqz1lZnBst"
      }
    },
    {
      "cell_type": "code",
      "source": [
        "def create_examples(dataset, n=10):\n",
        "\n",
        "    \"\"\"\n",
        "    Return a JSON list with n random examples of each aspect in the\n",
        "    input dataset.\n",
        "    First create a dictionary with the aspects as keys and the ids of the\n",
        "    reviews that contain this aspect as values.\n",
        "    Then take a random sample of ids from each of these lists.\n",
        "\n",
        "    Args:\n",
        "        dataset (DataFrame): DataFrame with nested ABSA annotations\n",
        "        n (int): Number of random examples selected for each aspect\n",
        "\n",
        "    Output:\n",
        "        examples (JSON): JSON list of examples\n",
        "    \"\"\"\n",
        "\n",
        "    columns_to_select = ['id', 'text', 'category']\n",
        "    example_ids = []\n",
        "\n",
        "    aspect_index = {\n",
        "        'screen': [], 'keyboard': [], 'mousepad': []\n",
        "    }\n",
        "\n",
        "    for id, category in zip(dataset.id, dataset.category):\n",
        "        for key in aspect_index.keys():\n",
        "            if key in category:\n",
        "                aspect_index[key].append(id)\n",
        "\n",
        "    for key in aspect_index:\n",
        "        example_ids.extend(np.random.choice(aspect_index[key], n).tolist())\n",
        "\n",
        "    examples = dataset.loc[dataset.id.isin(example_ids), columns_to_select]\n",
        "\n",
        "    return examples.to_json(orient='records')"
      ],
      "metadata": {
        "id": "mKzKCn8X_F3f"
      },
      "execution_count": 273,
      "outputs": []
    },
    {
      "cell_type": "code",
      "source": [
        "test_examples = create_examples(aspect_based_laptop_reviews_df)\n",
        "test_examples"
      ],
      "metadata": {
        "colab": {
          "base_uri": "https://localhost:8080/",
          "height": 123
        },
        "id": "uOQ3MBx6_XdX",
        "outputId": "401f93f8-d8d8-4a2a-a687-3446c28f98f1"
      },
      "execution_count": 274,
      "outputs": [
        {
          "output_type": "execute_result",
          "data": {
            "text/plain": [
              "'[{\"id\":2,\"text\":\"The screen is amazing. The design is impressive. The mousepad is bad.\",\"category\":\"{\\'category\\':array([\\'screen\\',\\'design\\',\\'mousepad\\'],dtype=object),\\'polarity\\':array([\\'positive\\',\\'positive\\',\\'negative\\'],dtype=object)}\"},{\"id\":3,\"text\":\"The GPU is adequate. The camera is average. The software is poor. The keyboard is great.\",\"category\":\"{\\'category\\':array([\\'GPU\\',\\'camera\\',\\'software\\',\\'keyboard\\'],dtype=object),\\'polarity\\':array([\\'neutral\\',\\'neutral\\',\\'negative\\',\\'positive\\'],dtype=object)}\"},{\"id\":14,\"text\":\"The keyboard is terrible. The software is terrible.\",\"category\":\"{\\'category\\':array([\\'keyboard\\',\\'software\\'],dtype=object),\\'polarity\\':array([\\'negative\\',\\'negative\\'],dtype=object)}\"},{\"id\":22,\"text\":\"The mousepad is decent. The battery is average. The camera is amazing. The screen is disappointing.\",\"category\":\"{\\'category\\':array([\\'mousepad\\',\\'battery\\',\\'camera\\',\\'screen\\'],dtype=object),\\'polarity\\':array([\\'neutral\\',\\'neutral\\',\\'positive\\',\\'negative\\'],dtype=object)}\"},{\"id\":25,\"text\":\"The camera is terrible. The screen is good. The software is adequate. The RAM is amazing.\",\"category\":\"{\\'category\\':array([\\'camera\\',\\'screen\\',\\'software\\',\\'RAM\\'],dtype=object),\\'polarity\\':array([\\'negative\\',\\'positive\\',\\'neutral\\',\\'positive\\'],dtype=object)}\"},{\"id\":32,\"text\":\"The screen is excellent. The GPU is standard. The hardware is fair. The software is impressive.\",\"category\":\"{\\'category\\':array([\\'screen\\',\\'GPU\\',\\'hardware\\',\\'software\\'],dtype=object),\\'polarity\\':array([\\'positive\\',\\'neutral\\',\\'neutral\\',\\'positive\\'],dtype=object)}\"},{\"id\":40,\"text\":\"The battery is standard. The mousepad is decent. The hardware is average.\",\"category\":\"{\\'category\\':array([\\'battery\\',\\'mousepad\\',\\'hardware\\'],dtype=object),\\'polarity\\':array([\\'neutral\\',\\'neutral\\',\\'neutral\\'],dtype=object)}\"},{\"id\":43,\"text\":\"The camera is excellent. The screen is amazing. The mousepad is impressive. The RAM is amazing.\",\"category\":\"{\\'category\\':array([\\'camera\\',\\'screen\\',\\'mousepad\\',\\'RAM\\'],dtype=object),\\'polarity\\':array([\\'positive\\',\\'positive\\',\\'positive\\',\\'positive\\'],dtype=object)}\"},{\"id\":45,\"text\":\"The RAM is fair. The GPU is good. The screen is amazing.\",\"category\":\"{\\'category\\':array([\\'RAM\\',\\'GPU\\',\\'screen\\'],dtype=object),\\'polarity\\':array([\\'neutral\\',\\'positive\\',\\'positive\\'],dtype=object)}\"},{\"id\":46,\"text\":\"The design is adequate. The keyboard is bad.\",\"category\":\"{\\'category\\':array([\\'design\\',\\'keyboard\\'],dtype=object),\\'polarity\\':array([\\'neutral\\',\\'negative\\'],dtype=object)}\"},{\"id\":49,\"text\":\"The keyboard is standard. The software is impressive.\",\"category\":\"{\\'category\\':array([\\'keyboard\\',\\'software\\'],dtype=object),\\'polarity\\':array([\\'neutral\\',\\'positive\\'],dtype=object)}\"},{\"id\":50,\"text\":\"The mousepad is amazing. The keyboard is standard. The design is impressive.\",\"category\":\"{\\'category\\':array([\\'mousepad\\',\\'keyboard\\',\\'design\\'],dtype=object),\\'polarity\\':array([\\'positive\\',\\'neutral\\',\\'positive\\'],dtype=object)}\"},{\"id\":51,\"text\":\"The camera is terrible. The keyboard is fair. The screen is adequate.\",\"category\":\"{\\'category\\':array([\\'camera\\',\\'keyboard\\',\\'screen\\'],dtype=object),\\'polarity\\':array([\\'negative\\',\\'neutral\\',\\'neutral\\'],dtype=object)}\"},{\"id\":53,\"text\":\"The camera is decent. The hardware is adequate. The software is adequate. The mousepad is bad.\",\"category\":\"{\\'category\\':array([\\'camera\\',\\'hardware\\',\\'software\\',\\'mousepad\\'],dtype=object),\\'polarity\\':array([\\'neutral\\',\\'neutral\\',\\'neutral\\',\\'negative\\'],dtype=object)}\"},{\"id\":59,\"text\":\"The mousepad is fair. The software is average.\",\"category\":\"{\\'category\\':array([\\'mousepad\\',\\'software\\'],dtype=object),\\'polarity\\':array([\\'neutral\\',\\'neutral\\'],dtype=object)}\"},{\"id\":63,\"text\":\"The screen is excellent. The mousepad is average.\",\"category\":\"{\\'category\\':array([\\'screen\\',\\'mousepad\\'],dtype=object),\\'polarity\\':array([\\'positive\\',\\'neutral\\'],dtype=object)}\"},{\"id\":66,\"text\":\"The RAM is unpleasant. The screen is decent. The keyboard is great.\",\"category\":\"{\\'category\\':array([\\'RAM\\',\\'screen\\',\\'keyboard\\'],dtype=object),\\'polarity\\':array([\\'negative\\',\\'neutral\\',\\'positive\\'],dtype=object)}\"},{\"id\":69,\"text\":\"The mousepad is standard. The camera is terrible.\",\"category\":\"{\\'category\\':array([\\'mousepad\\',\\'camera\\'],dtype=object),\\'polarity\\':array([\\'neutral\\',\\'negative\\'],dtype=object)}\"},{\"id\":76,\"text\":\"The camera is poor. The keyboard is poor.\",\"category\":\"{\\'category\\':array([\\'camera\\',\\'keyboard\\'],dtype=object),\\'polarity\\':array([\\'negative\\',\\'negative\\'],dtype=object)}\"},{\"id\":83,\"text\":\"The hardware is disappointing. The design is decent. The GPU is fair. The mousepad is standard.\",\"category\":\"{\\'category\\':array([\\'hardware\\',\\'design\\',\\'GPU\\',\\'mousepad\\'],dtype=object),\\'polarity\\':array([\\'negative\\',\\'neutral\\',\\'neutral\\',\\'neutral\\'],dtype=object)}\"},{\"id\":90,\"text\":\"The mousepad is adequate. The design is good. The screen is good. The keyboard is standard.\",\"category\":\"{\\'category\\':array([\\'mousepad\\',\\'design\\',\\'screen\\',\\'keyboard\\'],dtype=object),\\'polarity\\':array([\\'neutral\\',\\'positive\\',\\'positive\\',\\'neutral\\'],dtype=object)}\"},{\"id\":92,\"text\":\"The RAM is good. The keyboard is unpleasant. The mousepad is adequate.\",\"category\":\"{\\'category\\':array([\\'RAM\\',\\'keyboard\\',\\'mousepad\\'],dtype=object),\\'polarity\\':array([\\'positive\\',\\'negative\\',\\'neutral\\'],dtype=object)}\"},{\"id\":94,\"text\":\"The GPU is good. The hardware is fair. The screen is bad. The keyboard is disappointing.\",\"category\":\"{\\'category\\':array([\\'GPU\\',\\'hardware\\',\\'screen\\',\\'keyboard\\'],dtype=object),\\'polarity\\':array([\\'positive\\',\\'neutral\\',\\'negative\\',\\'negative\\'],dtype=object)}\"},{\"id\":97,\"text\":\"The screen is impressive. The keyboard is standard.\",\"category\":\"{\\'category\\':array([\\'screen\\',\\'keyboard\\'],dtype=object),\\'polarity\\':array([\\'positive\\',\\'neutral\\'],dtype=object)}\"},{\"id\":98,\"text\":\"The software is excellent. The mousepad is disappointing. The GPU is disappointing.\",\"category\":\"{\\'category\\':array([\\'software\\',\\'mousepad\\',\\'GPU\\'],dtype=object),\\'polarity\\':array([\\'positive\\',\\'negative\\',\\'negative\\'],dtype=object)}\"}]'"
            ],
            "application/vnd.google.colaboratory.intrinsic+json": {
              "type": "string"
            }
          },
          "metadata": {},
          "execution_count": 274
        }
      ]
    },
    {
      "cell_type": "code",
      "source": [
        "def create_prompt_bkup(system_message, examples, user_message_template):\n",
        "\n",
        "    \"\"\"\n",
        "    Return a prompt message in the format expected by the Open AI API.\n",
        "    Loop through the examples and parse them as user message and assistant\n",
        "    message.\n",
        "\n",
        "    Args:\n",
        "        system_message (str): Instructions for the model to execute ABSA\n",
        "        examples (JSON): JSON list of examples representative of each aspect\n",
        "        user_message_template (str): string with a placeholder for restaurant reviews\n",
        "\n",
        "    Output:\n",
        "        few_shot_prompt (List): A list of dictionaries in the Open AI prompt format\n",
        "    \"\"\"\n",
        "\n",
        "    few_shot_prompt = [{'role':'system', 'content': system_message}]\n",
        "\n",
        "    for example in json.loads(examples):\n",
        "        example_input = example['text']\n",
        "        example_absa = example['category']\n",
        "\n",
        "        few_shot_prompt.append(\n",
        "            {\n",
        "                'role': 'user',\n",
        "                'content': user_message_template.format(\n",
        "                    laptop_review=example_input\n",
        "                )\n",
        "            }\n",
        "        )\n",
        "\n",
        "        few_shot_prompt.append(\n",
        "            {'role': 'assistant', 'content': f\"{example_absa}\"}\n",
        "        )\n",
        "\n",
        "    return few_shot_prompt"
      ],
      "metadata": {
        "id": "CN1H5C0Y_t9j"
      },
      "execution_count": 275,
      "outputs": []
    },
    {
      "cell_type": "code",
      "source": [
        "def create_prompt(system_message, examples, user_message_template):\n",
        "\n",
        "    \"\"\"\n",
        "    Return a prompt message in the format expected by the Open AI API.\n",
        "    Loop through the examples and parse them as user message and assistant\n",
        "    message.\n",
        "\n",
        "    Args:\n",
        "        system_message (str): Instructions for the model to execute ABSA\n",
        "        examples (JSON): JSON list of examples representative of each aspect\n",
        "        user_message_template (str): string with a placeholder for restaurant reviews\n",
        "\n",
        "    Output:\n",
        "        few_shot_prompt (List): A list of dictionaries in the Open AI prompt format\n",
        "    \"\"\"\n",
        "\n",
        "    few_shot_prompt = [{'role':'system', 'content': system_message}]\n",
        "\n",
        "    for example in json.loads(examples):\n",
        "        example_input = example['text']\n",
        "        #example_absa = example['category']\n",
        "        example_absa = example['category'].replace(\"array(\", \"\").replace(\",dtype=object\", \"\").replace(\")\", \"\")\n",
        "\n",
        "        few_shot_prompt.append(\n",
        "            {\n",
        "                'role': 'user',\n",
        "                'content': user_message_template.format(\n",
        "                    laptop_review=example_input\n",
        "                )\n",
        "            }\n",
        "        )\n",
        "\n",
        "        few_shot_prompt.append(\n",
        "            {'role': 'assistant', 'content': f\"{example_absa}\"}\n",
        "        )\n",
        "\n",
        "    return few_shot_prompt"
      ],
      "metadata": {
        "id": "DxD5fZNC9S_P"
      },
      "execution_count": 276,
      "outputs": []
    },
    {
      "cell_type": "code",
      "source": [
        "examples = create_examples(aspect_based_laptop_reviews_df)\n",
        "few_shot_prompt = create_prompt(few_shot_system_message, examples, user_message_template)"
      ],
      "metadata": {
        "id": "mNx5KsTv_-4G"
      },
      "execution_count": 277,
      "outputs": []
    },
    {
      "cell_type": "code",
      "source": [
        "few_shot_prompt[:10]"
      ],
      "metadata": {
        "colab": {
          "base_uri": "https://localhost:8080/"
        },
        "id": "_8G9XbQ1J1VR",
        "outputId": "2e46c0d8-cf2a-4070-df49-92f85d852b07"
      },
      "execution_count": 278,
      "outputs": [
        {
          "output_type": "execute_result",
          "data": {
            "text/plain": [
              "[{'role': 'system',\n",
              "  'content': '\\nPerform aspect based sentiment analysis on laptop reviews presented in the input delimited by triple backticks, that is, ```.\\nIn each review there might be one or more of the following aspects: screen, keyboard, mousepad.\\nFor each review presented as input:\\n- Identify if there are any of the 3 aspects (screen, keyboard, mousepad) present in the review.\\n- Assign a sentiment polarity (positive, negative or neutral) for each aspect\\n\\nArrange your response a JSON object with the following headers:\\n- category:[list of aspects]\\n- polarity:[list of corresponding polarities for each aspect]}\\n'},\n",
              " {'role': 'user',\n",
              "  'content': '```The GPU is terrible. The keyboard is poor. The mousepad is decent.```'},\n",
              " {'role': 'assistant',\n",
              "  'content': \"{'category':['GPU','keyboard','mousepad'],'polarity':['negative','negative','neutral']}\"},\n",
              " {'role': 'user',\n",
              "  'content': '```The hardware is average. The mousepad is excellent.```'},\n",
              " {'role': 'assistant',\n",
              "  'content': \"{'category':['hardware','mousepad'],'polarity':['neutral','positive']}\"},\n",
              " {'role': 'user',\n",
              "  'content': '```The hardware is unpleasant. The mousepad is amazing.```'},\n",
              " {'role': 'assistant',\n",
              "  'content': \"{'category':['hardware','mousepad'],'polarity':['negative','positive']}\"},\n",
              " {'role': 'user',\n",
              "  'content': '```The design is adequate. The mousepad is excellent.```'},\n",
              " {'role': 'assistant',\n",
              "  'content': \"{'category':['design','mousepad'],'polarity':['neutral','positive']}\"},\n",
              " {'role': 'user',\n",
              "  'content': '```The software is amazing. The keyboard is good. The screen is great.```'}]"
            ]
          },
          "metadata": {},
          "execution_count": 278
        }
      ]
    },
    {
      "cell_type": "code",
      "source": [
        "num_tokens_from_messages(few_shot_prompt)"
      ],
      "metadata": {
        "colab": {
          "base_uri": "https://localhost:8080/"
        },
        "id": "1bOSpmtrcU8q",
        "outputId": "e6fae670-9dd8-406f-bd19-d71c7a98dd06"
      },
      "execution_count": 279,
      "outputs": [
        {
          "output_type": "execute_result",
          "data": {
            "text/plain": [
              "1189"
            ]
          },
          "metadata": {},
          "execution_count": 279
        }
      ]
    },
    {
      "cell_type": "markdown",
      "source": [
        "#### Evaluate prompts"
      ],
      "metadata": {
        "nteract": {
          "transient": {
            "deleting": false
          }
        },
        "id": "O0VaUpI7nBst"
      }
    },
    {
      "cell_type": "markdown",
      "source": [
        "**1. Define Evaluation scorer**"
      ],
      "metadata": {
        "nteract": {
          "transient": {
            "deleting": false
          }
        },
        "id": "2gJA34rtnBst"
      }
    },
    {
      "cell_type": "code",
      "source": [
        "def evaluate_prompt(prompt, gold_examples, user_message_template):\n",
        "\n",
        "    \"\"\"\n",
        "    Return the accuracy score for predictions on gold examples.\n",
        "    For each example, we make an ABSA prediction using the prompt.\n",
        "    Gold labels and model predictions are aggregated into lists and presented to\n",
        "    the compute_accuracy function.\n",
        "\n",
        "    Args:\n",
        "        prompt (List): list of messages in the Open AI prompt format\n",
        "        gold_examples (str): JSON string with list of gold examples\n",
        "        user_message_template (str): string with a placeholder for movie reviews\n",
        "\n",
        "    Output:\n",
        "        accuracy (float): Accuracy computed by comparing model predictions\n",
        "                                with ground truth\n",
        "    \"\"\"\n",
        "\n",
        "    model_predictions, ground_truths = [], []\n",
        "\n",
        "    for example in gold_examples:\n",
        "        user_input = [\n",
        "            {\n",
        "                'role':'user',\n",
        "                'content': user_message_template.format(laptop_review=example['text'])\n",
        "            }\n",
        "        ]\n",
        "\n",
        "        try:\n",
        "            response = openai.ChatCompletion.create(\n",
        "                deployment_id=chat_model_id,\n",
        "                messages=prompt+user_input,\n",
        "                temperature=0\n",
        "            )\n",
        "\n",
        "            #print(\"ACTUAL RESPONSE::::::: \",response['choices'][0]['message']['content'])\n",
        "            #print(\"EDITED RESPONSE::::::: \",response['choices'][0]['message']['content'].replace(\"'\", \"\\\"\"))\n",
        "\n",
        "            prediction = response['choices'][0]['message']['content'].replace(\"'\", \"\\\"\")\n",
        "\n",
        "            #print(\"PREDICTION Type - \",type(json.loads(prediction.strip().lower())))\n",
        "            #print(\"Gold Example Category Type - \",type(json.loads(example['category'].strip().lower().replace(\"'\", '\"'))))\n",
        "\n",
        "            model_predictions.append(json.loads(prediction.strip().lower()))\n",
        "            #ground_truths.append(example['category'])\n",
        "            ground_truths.append(json.loads(example['category'].strip().lower().replace(\"'\", '\"')))\n",
        "\n",
        "        except Exception as e:\n",
        "            continue\n",
        "\n",
        "    #print(\"MODEL PREDICTION - \",model_predictions[0:10])\n",
        "    #print(\"GROUND TRUTH - \",ground_truths[0:10])\n",
        "\n",
        "    accuracy = compute_accuracy(gold_examples, model_predictions, ground_truths)\n",
        "\n",
        "    return accuracy"
      ],
      "outputs": [],
      "execution_count": 280,
      "metadata": {
        "jupyter": {
          "source_hidden": false,
          "outputs_hidden": false
        },
        "nteract": {
          "transient": {
            "deleting": false
          }
        },
        "id": "6JN00kh-nBst"
      }
    },
    {
      "cell_type": "markdown",
      "source": [
        "**2. Evaluate zero shot prompt**"
      ],
      "metadata": {
        "nteract": {
          "transient": {
            "deleting": false
          }
        },
        "id": "rd2prAopnBst"
      }
    },
    {
      "cell_type": "code",
      "source": [
        "zero_shot_prompt"
      ],
      "metadata": {
        "colab": {
          "base_uri": "https://localhost:8080/"
        },
        "id": "h0yEho20NyUa",
        "outputId": "65e13afe-9eba-4ce5-e925-d2d7a1256561"
      },
      "execution_count": 281,
      "outputs": [
        {
          "output_type": "execute_result",
          "data": {
            "text/plain": [
              "[{'role': 'system',\n",
              "  'content': '\\nPerform aspect based sentiment analysis on laptop reviews presented in the input delimited by triple backticks, that is, ```.\\nIn each review there might be one or more of the following aspects: screen, keyboard, mousepad.\\nFor each review presented as input:\\n- Identify if there are any of the 3 aspects (screen, keyboard, mousepad) present in the review.\\n- Assign a sentiment polarity (positive, negative or neutral) for each aspect\\n\\nArrange your response a JSON object with the following headers:\\n- category:[list of aspects]\\n- polarity:[list of corresponding polarities for each aspect]}\\n'}]"
            ]
          },
          "metadata": {},
          "execution_count": 281
        }
      ]
    },
    {
      "cell_type": "code",
      "source": [
        "gold_examples"
      ],
      "metadata": {
        "colab": {
          "base_uri": "https://localhost:8080/"
        },
        "id": "n-cFLKI6N43t",
        "outputId": "2e40f9c1-c953-44fa-e4c0-ba0f4d4112fd"
      },
      "execution_count": 282,
      "outputs": [
        {
          "output_type": "execute_result",
          "data": {
            "text/plain": [
              "[{'id': 86,\n",
              "  'text': 'The RAM is amazing. The keyboard is great. The hardware is adequate. The screen is amazing.',\n",
              "  'category': \"{'category':['RAM','keyboard','hardware','screen'],'polarity':['positive','positive','neutral','positive']}\"},\n",
              " {'id': 31,\n",
              "  'text': 'The RAM is decent. The hardware is amazing.',\n",
              "  'category': \"{'category':['RAM','hardware'],'polarity':['neutral','positive']}\"},\n",
              " {'id': 90,\n",
              "  'text': 'The mousepad is adequate. The design is good. The screen is good. The keyboard is standard.',\n",
              "  'category': \"{'category':['mousepad','design','screen','keyboard'],'polarity':['neutral','positive','positive','neutral']}\"},\n",
              " {'id': 95,\n",
              "  'text': 'The RAM is good. The mousepad is excellent. The software is bad.',\n",
              "  'category': \"{'category':['RAM','mousepad','software'],'polarity':['positive','positive','negative']}\"},\n",
              " {'id': 83,\n",
              "  'text': 'The hardware is disappointing. The design is decent. The GPU is fair. The mousepad is standard.',\n",
              "  'category': \"{'category':['hardware','design','GPU','mousepad'],'polarity':['negative','neutral','neutral','neutral']}\"},\n",
              " {'id': 51,\n",
              "  'text': 'The camera is terrible. The keyboard is fair. The screen is adequate.',\n",
              "  'category': \"{'category':['camera','keyboard','screen'],'polarity':['negative','neutral','neutral']}\"},\n",
              " {'id': 28,\n",
              "  'text': 'The screen is adequate. The GPU is disappointing. The hardware is disappointing. The keyboard is excellent.',\n",
              "  'category': \"{'category':['screen','GPU','hardware','keyboard'],'polarity':['neutral','negative','negative','positive']}\"},\n",
              " {'id': 41,\n",
              "  'text': 'The GPU is bad. The software is terrible. The battery is great. The RAM is poor.',\n",
              "  'category': \"{'category':['GPU','software','battery','RAM'],'polarity':['negative','negative','positive','negative']}\"},\n",
              " {'id': 66,\n",
              "  'text': 'The RAM is unpleasant. The screen is decent. The keyboard is great.',\n",
              "  'category': \"{'category':['RAM','screen','keyboard'],'polarity':['negative','neutral','positive']}\"},\n",
              " {'id': 98,\n",
              "  'text': 'The software is excellent. The mousepad is disappointing. The GPU is disappointing.',\n",
              "  'category': \"{'category':['software','mousepad','GPU'],'polarity':['positive','negative','negative']}\"}]"
            ]
          },
          "metadata": {},
          "execution_count": 282
        }
      ]
    },
    {
      "cell_type": "code",
      "source": [
        "evaluate_prompt(zero_shot_prompt, gold_examples, user_message_template)"
      ],
      "outputs": [
        {
          "output_type": "execute_result",
          "data": {
            "text/plain": [
              "0.1"
            ]
          },
          "metadata": {},
          "execution_count": 283
        }
      ],
      "execution_count": 283,
      "metadata": {
        "jupyter": {
          "source_hidden": false,
          "outputs_hidden": false
        },
        "nteract": {
          "transient": {
            "deleting": false
          }
        },
        "id": "zPIm2UUunBst",
        "colab": {
          "base_uri": "https://localhost:8080/"
        },
        "outputId": "b3bab3f8-da11-4cf8-d16f-8f77b0504997"
      }
    },
    {
      "cell_type": "markdown",
      "source": [
        "**3. Evaluate few shot prompt**"
      ],
      "metadata": {
        "nteract": {
          "transient": {
            "deleting": false
          }
        },
        "id": "4YbHPzaYnBst"
      }
    },
    {
      "cell_type": "code",
      "source": [
        "few_shot_prompt"
      ],
      "metadata": {
        "colab": {
          "base_uri": "https://localhost:8080/"
        },
        "id": "zvP4lgwxqfXZ",
        "outputId": "8f8d9b46-a28f-4594-ec56-2c45f6a665a2"
      },
      "execution_count": 284,
      "outputs": [
        {
          "output_type": "execute_result",
          "data": {
            "text/plain": [
              "[{'role': 'system',\n",
              "  'content': '\\nPerform aspect based sentiment analysis on laptop reviews presented in the input delimited by triple backticks, that is, ```.\\nIn each review there might be one or more of the following aspects: screen, keyboard, mousepad.\\nFor each review presented as input:\\n- Identify if there are any of the 3 aspects (screen, keyboard, mousepad) present in the review.\\n- Assign a sentiment polarity (positive, negative or neutral) for each aspect\\n\\nArrange your response a JSON object with the following headers:\\n- category:[list of aspects]\\n- polarity:[list of corresponding polarities for each aspect]}\\n'},\n",
              " {'role': 'user',\n",
              "  'content': '```The GPU is terrible. The keyboard is poor. The mousepad is decent.```'},\n",
              " {'role': 'assistant',\n",
              "  'content': \"{'category':['GPU','keyboard','mousepad'],'polarity':['negative','negative','neutral']}\"},\n",
              " {'role': 'user',\n",
              "  'content': '```The hardware is average. The mousepad is excellent.```'},\n",
              " {'role': 'assistant',\n",
              "  'content': \"{'category':['hardware','mousepad'],'polarity':['neutral','positive']}\"},\n",
              " {'role': 'user',\n",
              "  'content': '```The hardware is unpleasant. The mousepad is amazing.```'},\n",
              " {'role': 'assistant',\n",
              "  'content': \"{'category':['hardware','mousepad'],'polarity':['negative','positive']}\"},\n",
              " {'role': 'user',\n",
              "  'content': '```The design is adequate. The mousepad is excellent.```'},\n",
              " {'role': 'assistant',\n",
              "  'content': \"{'category':['design','mousepad'],'polarity':['neutral','positive']}\"},\n",
              " {'role': 'user',\n",
              "  'content': '```The software is amazing. The keyboard is good. The screen is great.```'},\n",
              " {'role': 'assistant',\n",
              "  'content': \"{'category':['software','keyboard','screen'],'polarity':['positive','positive','positive']}\"},\n",
              " {'role': 'user',\n",
              "  'content': '```The screen is adequate. The GPU is disappointing. The hardware is disappointing. The keyboard is excellent.```'},\n",
              " {'role': 'assistant',\n",
              "  'content': \"{'category':['screen','GPU','hardware','keyboard'],'polarity':['neutral','negative','negative','positive']}\"},\n",
              " {'role': 'user',\n",
              "  'content': '```The battery is bad. The keyboard is bad. The screen is great.```'},\n",
              " {'role': 'assistant',\n",
              "  'content': \"{'category':['battery','keyboard','screen'],'polarity':['negative','negative','positive']}\"},\n",
              " {'role': 'user',\n",
              "  'content': '```The screen is unpleasant. The GPU is adequate.```'},\n",
              " {'role': 'assistant',\n",
              "  'content': \"{'category':['screen','GPU'],'polarity':['negative','neutral']}\"},\n",
              " {'role': 'user',\n",
              "  'content': '```The battery is amazing. The screen is standard. The RAM is terrible. The mousepad is standard.```'},\n",
              " {'role': 'assistant',\n",
              "  'content': \"{'category':['battery','screen','RAM','mousepad'],'polarity':['positive','neutral','negative','neutral']}\"},\n",
              " {'role': 'user',\n",
              "  'content': '```The camera is terrible. The keyboard is fair. The screen is adequate.```'},\n",
              " {'role': 'assistant',\n",
              "  'content': \"{'category':['camera','keyboard','screen'],'polarity':['negative','neutral','neutral']}\"},\n",
              " {'role': 'user',\n",
              "  'content': '```The screen is excellent. The mousepad is average.```'},\n",
              " {'role': 'assistant',\n",
              "  'content': \"{'category':['screen','mousepad'],'polarity':['positive','neutral']}\"},\n",
              " {'role': 'user',\n",
              "  'content': '```The mousepad is impressive. The screen is decent. The keyboard is standard.```'},\n",
              " {'role': 'assistant',\n",
              "  'content': \"{'category':['mousepad','screen','keyboard'],'polarity':['positive','neutral','neutral']}\"},\n",
              " {'role': 'user',\n",
              "  'content': '```The software is excellent. The keyboard is decent. The hardware is average. The RAM is impressive.```'},\n",
              " {'role': 'assistant',\n",
              "  'content': \"{'category':['software','keyboard','hardware','RAM'],'polarity':['positive','neutral','neutral','positive']}\"},\n",
              " {'role': 'user',\n",
              "  'content': '```The mousepad is standard. The camera is terrible.```'},\n",
              " {'role': 'assistant',\n",
              "  'content': \"{'category':['mousepad','camera'],'polarity':['neutral','negative']}\"},\n",
              " {'role': 'user',\n",
              "  'content': '```The camera is standard. The GPU is great. The hardware is excellent. The screen is good.```'},\n",
              " {'role': 'assistant',\n",
              "  'content': \"{'category':['camera','GPU','hardware','screen'],'polarity':['neutral','positive','positive','positive']}\"},\n",
              " {'role': 'user',\n",
              "  'content': '```The mousepad is unpleasant. The screen is bad.```'},\n",
              " {'role': 'assistant',\n",
              "  'content': \"{'category':['mousepad','screen'],'polarity':['negative','negative']}\"},\n",
              " {'role': 'user',\n",
              "  'content': '```The battery is impressive. The keyboard is fair. The hardware is average.```'},\n",
              " {'role': 'assistant',\n",
              "  'content': \"{'category':['battery','keyboard','hardware'],'polarity':['positive','neutral','neutral']}\"},\n",
              " {'role': 'user',\n",
              "  'content': '```The hardware is disappointing. The design is decent. The GPU is fair. The mousepad is standard.```'},\n",
              " {'role': 'assistant',\n",
              "  'content': \"{'category':['hardware','design','GPU','mousepad'],'polarity':['negative','neutral','neutral','neutral']}\"},\n",
              " {'role': 'user',\n",
              "  'content': '```The RAM is amazing. The keyboard is great. The hardware is adequate. The screen is amazing.```'},\n",
              " {'role': 'assistant',\n",
              "  'content': \"{'category':['RAM','keyboard','hardware','screen'],'polarity':['positive','positive','neutral','positive']}\"},\n",
              " {'role': 'user',\n",
              "  'content': '```The RAM is good. The keyboard is unpleasant. The mousepad is adequate.```'},\n",
              " {'role': 'assistant',\n",
              "  'content': \"{'category':['RAM','keyboard','mousepad'],'polarity':['positive','negative','neutral']}\"},\n",
              " {'role': 'user',\n",
              "  'content': '```The GPU is good. The hardware is fair. The screen is bad. The keyboard is disappointing.```'},\n",
              " {'role': 'assistant',\n",
              "  'content': \"{'category':['GPU','hardware','screen','keyboard'],'polarity':['positive','neutral','negative','negative']}\"},\n",
              " {'role': 'user',\n",
              "  'content': '```The camera is terrible. The hardware is adequate. The mousepad is amazing.```'},\n",
              " {'role': 'assistant',\n",
              "  'content': \"{'category':['camera','hardware','mousepad'],'polarity':['negative','neutral','positive']}\"},\n",
              " {'role': 'user',\n",
              "  'content': '```The software is excellent. The mousepad is disappointing. The GPU is disappointing.```'},\n",
              " {'role': 'assistant',\n",
              "  'content': \"{'category':['software','mousepad','GPU'],'polarity':['positive','negative','negative']}\"},\n",
              " {'role': 'user',\n",
              "  'content': '```The mousepad is good. The GPU is fair. The keyboard is good.```'},\n",
              " {'role': 'assistant',\n",
              "  'content': \"{'category':['mousepad','GPU','keyboard'],'polarity':['positive','neutral','positive']}\"}]"
            ]
          },
          "metadata": {},
          "execution_count": 284
        }
      ]
    },
    {
      "cell_type": "code",
      "source": [
        "for item in few_shot_prompt:\n",
        "    #print(f\"Item: {item}, Type: {type(item)}\")\n",
        "    if item['role'] == 'assistant':\n",
        "        '''\n",
        "        # Extract the 'content' string\n",
        "        content = item['content']\n",
        "\n",
        "        # Find the start and end of the 'category' array\n",
        "        category_start = content.find(\"['\") + 1\n",
        "        category_end = content.find(\"']\", category_start) + 1\n",
        "\n",
        "        # Extract the 'category' part and clean it\n",
        "        category_str = content[category_start:category_end].replace(\"array(\", \"\").replace(\",dtype=object\", \"\")\n",
        "\n",
        "        print(type(category_str))\n",
        "        print(category_str)\n",
        "\n",
        "        '''\n",
        "\n",
        "        item['content'] = item['content'].replace(\"array(\", \"\").replace(\",dtype=object\", \"\").replace(\")\", \"\")\n",
        "        #item['content'] = json.loads(item['content'].strip().lower().replace(\"'\", '\"'))\n",
        "\n",
        "        #print(item['content'])\n",
        "\n",
        "print(few_shot_prompt)"
      ],
      "metadata": {
        "colab": {
          "base_uri": "https://localhost:8080/"
        },
        "id": "DsJx6jB71EEb",
        "outputId": "282d1cd2-f338-4d95-bfb3-c5c9c3087357"
      },
      "execution_count": 285,
      "outputs": [
        {
          "output_type": "stream",
          "name": "stdout",
          "text": [
            "[{'role': 'system', 'content': '\\nPerform aspect based sentiment analysis on laptop reviews presented in the input delimited by triple backticks, that is, ```.\\nIn each review there might be one or more of the following aspects: screen, keyboard, mousepad.\\nFor each review presented as input:\\n- Identify if there are any of the 3 aspects (screen, keyboard, mousepad) present in the review.\\n- Assign a sentiment polarity (positive, negative or neutral) for each aspect\\n\\nArrange your response a JSON object with the following headers:\\n- category:[list of aspects]\\n- polarity:[list of corresponding polarities for each aspect]}\\n'}, {'role': 'user', 'content': '```The GPU is terrible. The keyboard is poor. The mousepad is decent.```'}, {'role': 'assistant', 'content': \"{'category':['GPU','keyboard','mousepad'],'polarity':['negative','negative','neutral']}\"}, {'role': 'user', 'content': '```The hardware is average. The mousepad is excellent.```'}, {'role': 'assistant', 'content': \"{'category':['hardware','mousepad'],'polarity':['neutral','positive']}\"}, {'role': 'user', 'content': '```The hardware is unpleasant. The mousepad is amazing.```'}, {'role': 'assistant', 'content': \"{'category':['hardware','mousepad'],'polarity':['negative','positive']}\"}, {'role': 'user', 'content': '```The design is adequate. The mousepad is excellent.```'}, {'role': 'assistant', 'content': \"{'category':['design','mousepad'],'polarity':['neutral','positive']}\"}, {'role': 'user', 'content': '```The software is amazing. The keyboard is good. The screen is great.```'}, {'role': 'assistant', 'content': \"{'category':['software','keyboard','screen'],'polarity':['positive','positive','positive']}\"}, {'role': 'user', 'content': '```The screen is adequate. The GPU is disappointing. The hardware is disappointing. The keyboard is excellent.```'}, {'role': 'assistant', 'content': \"{'category':['screen','GPU','hardware','keyboard'],'polarity':['neutral','negative','negative','positive']}\"}, {'role': 'user', 'content': '```The battery is bad. The keyboard is bad. The screen is great.```'}, {'role': 'assistant', 'content': \"{'category':['battery','keyboard','screen'],'polarity':['negative','negative','positive']}\"}, {'role': 'user', 'content': '```The screen is unpleasant. The GPU is adequate.```'}, {'role': 'assistant', 'content': \"{'category':['screen','GPU'],'polarity':['negative','neutral']}\"}, {'role': 'user', 'content': '```The battery is amazing. The screen is standard. The RAM is terrible. The mousepad is standard.```'}, {'role': 'assistant', 'content': \"{'category':['battery','screen','RAM','mousepad'],'polarity':['positive','neutral','negative','neutral']}\"}, {'role': 'user', 'content': '```The camera is terrible. The keyboard is fair. The screen is adequate.```'}, {'role': 'assistant', 'content': \"{'category':['camera','keyboard','screen'],'polarity':['negative','neutral','neutral']}\"}, {'role': 'user', 'content': '```The screen is excellent. The mousepad is average.```'}, {'role': 'assistant', 'content': \"{'category':['screen','mousepad'],'polarity':['positive','neutral']}\"}, {'role': 'user', 'content': '```The mousepad is impressive. The screen is decent. The keyboard is standard.```'}, {'role': 'assistant', 'content': \"{'category':['mousepad','screen','keyboard'],'polarity':['positive','neutral','neutral']}\"}, {'role': 'user', 'content': '```The software is excellent. The keyboard is decent. The hardware is average. The RAM is impressive.```'}, {'role': 'assistant', 'content': \"{'category':['software','keyboard','hardware','RAM'],'polarity':['positive','neutral','neutral','positive']}\"}, {'role': 'user', 'content': '```The mousepad is standard. The camera is terrible.```'}, {'role': 'assistant', 'content': \"{'category':['mousepad','camera'],'polarity':['neutral','negative']}\"}, {'role': 'user', 'content': '```The camera is standard. The GPU is great. The hardware is excellent. The screen is good.```'}, {'role': 'assistant', 'content': \"{'category':['camera','GPU','hardware','screen'],'polarity':['neutral','positive','positive','positive']}\"}, {'role': 'user', 'content': '```The mousepad is unpleasant. The screen is bad.```'}, {'role': 'assistant', 'content': \"{'category':['mousepad','screen'],'polarity':['negative','negative']}\"}, {'role': 'user', 'content': '```The battery is impressive. The keyboard is fair. The hardware is average.```'}, {'role': 'assistant', 'content': \"{'category':['battery','keyboard','hardware'],'polarity':['positive','neutral','neutral']}\"}, {'role': 'user', 'content': '```The hardware is disappointing. The design is decent. The GPU is fair. The mousepad is standard.```'}, {'role': 'assistant', 'content': \"{'category':['hardware','design','GPU','mousepad'],'polarity':['negative','neutral','neutral','neutral']}\"}, {'role': 'user', 'content': '```The RAM is amazing. The keyboard is great. The hardware is adequate. The screen is amazing.```'}, {'role': 'assistant', 'content': \"{'category':['RAM','keyboard','hardware','screen'],'polarity':['positive','positive','neutral','positive']}\"}, {'role': 'user', 'content': '```The RAM is good. The keyboard is unpleasant. The mousepad is adequate.```'}, {'role': 'assistant', 'content': \"{'category':['RAM','keyboard','mousepad'],'polarity':['positive','negative','neutral']}\"}, {'role': 'user', 'content': '```The GPU is good. The hardware is fair. The screen is bad. The keyboard is disappointing.```'}, {'role': 'assistant', 'content': \"{'category':['GPU','hardware','screen','keyboard'],'polarity':['positive','neutral','negative','negative']}\"}, {'role': 'user', 'content': '```The camera is terrible. The hardware is adequate. The mousepad is amazing.```'}, {'role': 'assistant', 'content': \"{'category':['camera','hardware','mousepad'],'polarity':['negative','neutral','positive']}\"}, {'role': 'user', 'content': '```The software is excellent. The mousepad is disappointing. The GPU is disappointing.```'}, {'role': 'assistant', 'content': \"{'category':['software','mousepad','GPU'],'polarity':['positive','negative','negative']}\"}, {'role': 'user', 'content': '```The mousepad is good. The GPU is fair. The keyboard is good.```'}, {'role': 'assistant', 'content': \"{'category':['mousepad','GPU','keyboard'],'polarity':['positive','neutral','positive']}\"}]\n"
          ]
        }
      ]
    },
    {
      "cell_type": "code",
      "source": [
        "evaluate_prompt(few_shot_prompt, gold_examples, user_message_template)"
      ],
      "metadata": {
        "colab": {
          "base_uri": "https://localhost:8080/"
        },
        "id": "DdnQet3u4n_m",
        "outputId": "ef461ac1-b412-43b3-efe7-c1563a38b112"
      },
      "execution_count": 286,
      "outputs": [
        {
          "output_type": "execute_result",
          "data": {
            "text/plain": [
              "1.0"
            ]
          },
          "metadata": {},
          "execution_count": 286
        }
      ]
    },
    {
      "cell_type": "markdown",
      "source": [
        "**4. In summary, compute the average (mean) and measure the variability (standard deviation) of the evaluation scores.**"
      ],
      "metadata": {
        "nteract": {
          "transient": {
            "deleting": false
          }
        },
        "id": "vniAnzACnBst"
      }
    },
    {
      "cell_type": "code",
      "source": [
        "num_eval_runs = 10"
      ],
      "outputs": [],
      "execution_count": 287,
      "metadata": {
        "jupyter": {
          "source_hidden": false,
          "outputs_hidden": false
        },
        "nteract": {
          "transient": {
            "deleting": false
          }
        },
        "id": "7xapXs4OnBst"
      }
    },
    {
      "cell_type": "code",
      "source": [
        "few_shot_performance = []"
      ],
      "outputs": [],
      "execution_count": 288,
      "metadata": {
        "jupyter": {
          "source_hidden": false,
          "outputs_hidden": false
        },
        "nteract": {
          "transient": {
            "deleting": false
          }
        },
        "id": "ULvIa06BnBst"
      }
    },
    {
      "cell_type": "code",
      "source": [
        "for _ in tqdm(range(num_eval_runs)):\n",
        "\n",
        "    # For each run create a new sample of examples\n",
        "    examples = create_examples(aspect_based_laptop_reviews_df)\n",
        "\n",
        "    # Assemble the few shot prompt with these examples\n",
        "    few_shot_prompt = create_prompt(few_shot_system_message, examples, user_message_template)\n",
        "\n",
        "    # Evaluate prompt accuracy on gold examples\n",
        "    few_shot_accuracy = evaluate_prompt(few_shot_prompt, gold_examples, user_message_template)\n",
        "\n",
        "    few_shot_performance.append(few_shot_accuracy)"
      ],
      "metadata": {
        "colab": {
          "base_uri": "https://localhost:8080/"
        },
        "id": "Zei4_dpY5PFi",
        "outputId": "3b69e1c9-0fa0-43a0-e2b1-65954d35bd71"
      },
      "execution_count": 289,
      "outputs": [
        {
          "output_type": "stream",
          "name": "stderr",
          "text": [
            "100%|██████████| 10/10 [00:42<00:00,  4.29s/it]\n"
          ]
        }
      ]
    },
    {
      "cell_type": "code",
      "source": [
        "few_shot_performance"
      ],
      "metadata": {
        "colab": {
          "base_uri": "https://localhost:8080/"
        },
        "id": "dZ7d9brp-8gP",
        "outputId": "1091324f-1c2c-4c30-d18f-e0266b48f20d"
      },
      "execution_count": 290,
      "outputs": [
        {
          "output_type": "execute_result",
          "data": {
            "text/plain": [
              "[1.0, 0.9, 1.0, 0.9, 1.0, 1.0, 1.0, 1.0, 1.0, 1.0]"
            ]
          },
          "metadata": {},
          "execution_count": 290
        }
      ]
    },
    {
      "cell_type": "code",
      "source": [
        "np.array(few_shot_performance).mean(), np.array(few_shot_performance).std()"
      ],
      "metadata": {
        "colab": {
          "base_uri": "https://localhost:8080/"
        },
        "id": "51NuNqxe5iFP",
        "outputId": "c806ad91-a0f2-4de9-943b-65c86fff0988"
      },
      "execution_count": 291,
      "outputs": [
        {
          "output_type": "execute_result",
          "data": {
            "text/plain": [
              "(0.9800000000000001, 0.039999999999999994)"
            ]
          },
          "metadata": {},
          "execution_count": 291
        }
      ]
    },
    {
      "cell_type": "markdown",
      "source": [
        "**sensitivity tests:**\n",
        "\n",
        "bias check using a content-free input.\n",
        "number of examples check."
      ],
      "metadata": {
        "id": "HNOa2dfVdSaL"
      }
    },
    {
      "cell_type": "markdown",
      "source": [
        "*Check 1: Bias*"
      ],
      "metadata": {
        "id": "h6xYgmrSdWUX"
      }
    },
    {
      "cell_type": "code",
      "source": [
        "bias_test_predictions = []"
      ],
      "metadata": {
        "id": "UrKBQ5oAdnHx"
      },
      "execution_count": 293,
      "outputs": []
    },
    {
      "cell_type": "code",
      "source": [
        "for _ in tqdm(range(25)):\n",
        "\n",
        "    user_input = [\n",
        "        {\n",
        "            'role':'user',\n",
        "            'content': \"```' '```\" #<- content free test input\n",
        "        }\n",
        "    ]\n",
        "\n",
        "    response = openai.ChatCompletion.create(\n",
        "        deployment_id=chat_model_id,\n",
        "        messages=few_shot_prompt+user_input,\n",
        "        temperature=0,\n",
        "        max_tokens=2\n",
        "    )\n",
        "\n",
        "    #print(response)\n",
        "\n",
        "    prediction = response['choices'][0]['message']['content']\n",
        "\n",
        "    bias_test_predictions.append(prediction.strip().lower())"
      ],
      "metadata": {
        "colab": {
          "base_uri": "https://localhost:8080/"
        },
        "id": "3-hVmvaHdo-N",
        "outputId": "71a29330-85d9-4764-85ba-230bffa85414"
      },
      "execution_count": 294,
      "outputs": [
        {
          "output_type": "stream",
          "name": "stderr",
          "text": [
            "100%|██████████| 25/25 [00:05<00:00,  4.56it/s]\n"
          ]
        }
      ]
    },
    {
      "cell_type": "code",
      "source": [
        "Counter(bias_test_predictions)"
      ],
      "metadata": {
        "colab": {
          "base_uri": "https://localhost:8080/"
        },
        "id": "1IJn3pLUdwlz",
        "outputId": "5f828712-81b4-4227-ab38-afaed8efe0a6"
      },
      "execution_count": 295,
      "outputs": [
        {
          "output_type": "execute_result",
          "data": {
            "text/plain": [
              "Counter({\"{'category\": 25})"
            ]
          },
          "metadata": {},
          "execution_count": 295
        }
      ]
    },
    {
      "cell_type": "markdown",
      "source": [
        "*Check 2: Sensitivity to number of examples*"
      ],
      "metadata": {
        "id": "c5XUnS0LedlG"
      }
    },
    {
      "cell_type": "code",
      "source": [
        "sample_size_sensitivity_results = []\n",
        "per_class_examples_choice = [2, 3]"
      ],
      "metadata": {
        "id": "H26sUnVZegWB"
      },
      "execution_count": 298,
      "outputs": []
    },
    {
      "cell_type": "code",
      "source": [
        "for n in tqdm(per_class_examples_choice):\n",
        "\n",
        "    for _ in range(10):\n",
        "\n",
        "        examples = create_examples(laptop_reviews_examples_df, n)\n",
        "\n",
        "        few_shot_prompt = create_prompt(few_shot_system_message, examples, user_message_template)\n",
        "\n",
        "        few_shot_micro_f1 = evaluate_prompt(few_shot_prompt, gold_examples, user_message_template)\n",
        "\n",
        "        sample_size_sensitivity_results.append({'num_examples': 2*n, 'micro_f1': few_shot_micro_f1})"
      ],
      "metadata": {
        "colab": {
          "base_uri": "https://localhost:8080/"
        },
        "id": "h2PYv7EdemhA",
        "outputId": "6c8dfce9-6131-4a75-8cdf-89e48588a83d"
      },
      "execution_count": 299,
      "outputs": [
        {
          "output_type": "stream",
          "name": "stderr",
          "text": [
            "100%|██████████| 2/2 [01:17<00:00, 38.77s/it]\n"
          ]
        }
      ]
    },
    {
      "cell_type": "code",
      "source": [
        "few_shot_micro_f1"
      ],
      "metadata": {
        "colab": {
          "base_uri": "https://localhost:8080/"
        },
        "id": "3hTQZbG7fhwc",
        "outputId": "50ff9785-09ae-4648-e73a-46b9c971e421"
      },
      "execution_count": 300,
      "outputs": [
        {
          "output_type": "execute_result",
          "data": {
            "text/plain": [
              "1.0"
            ]
          },
          "metadata": {},
          "execution_count": 300
        }
      ]
    },
    {
      "cell_type": "code",
      "source": [
        "pd.DataFrame(sample_size_sensitivity_results).groupby('num_examples').agg(['mean', 'std'])"
      ],
      "metadata": {
        "colab": {
          "base_uri": "https://localhost:8080/",
          "height": 175
        },
        "id": "IDuPvQejfm11",
        "outputId": "b43f3657-909b-4ff6-fb1f-9296039030a8"
      },
      "execution_count": 301,
      "outputs": [
        {
          "output_type": "execute_result",
          "data": {
            "text/plain": [
              "             micro_f1          \n",
              "                 mean       std\n",
              "num_examples                   \n",
              "4                0.94  0.069921\n",
              "6                0.96  0.051640"
            ],
            "text/html": [
              "\n",
              "  <div id=\"df-5f21bc5d-42b2-48b8-a245-89046ab393d6\" class=\"colab-df-container\">\n",
              "    <div>\n",
              "<style scoped>\n",
              "    .dataframe tbody tr th:only-of-type {\n",
              "        vertical-align: middle;\n",
              "    }\n",
              "\n",
              "    .dataframe tbody tr th {\n",
              "        vertical-align: top;\n",
              "    }\n",
              "\n",
              "    .dataframe thead tr th {\n",
              "        text-align: left;\n",
              "    }\n",
              "\n",
              "    .dataframe thead tr:last-of-type th {\n",
              "        text-align: right;\n",
              "    }\n",
              "</style>\n",
              "<table border=\"1\" class=\"dataframe\">\n",
              "  <thead>\n",
              "    <tr>\n",
              "      <th></th>\n",
              "      <th colspan=\"2\" halign=\"left\">micro_f1</th>\n",
              "    </tr>\n",
              "    <tr>\n",
              "      <th></th>\n",
              "      <th>mean</th>\n",
              "      <th>std</th>\n",
              "    </tr>\n",
              "    <tr>\n",
              "      <th>num_examples</th>\n",
              "      <th></th>\n",
              "      <th></th>\n",
              "    </tr>\n",
              "  </thead>\n",
              "  <tbody>\n",
              "    <tr>\n",
              "      <th>4</th>\n",
              "      <td>0.94</td>\n",
              "      <td>0.069921</td>\n",
              "    </tr>\n",
              "    <tr>\n",
              "      <th>6</th>\n",
              "      <td>0.96</td>\n",
              "      <td>0.051640</td>\n",
              "    </tr>\n",
              "  </tbody>\n",
              "</table>\n",
              "</div>\n",
              "    <div class=\"colab-df-buttons\">\n",
              "\n",
              "  <div class=\"colab-df-container\">\n",
              "    <button class=\"colab-df-convert\" onclick=\"convertToInteractive('df-5f21bc5d-42b2-48b8-a245-89046ab393d6')\"\n",
              "            title=\"Convert this dataframe to an interactive table.\"\n",
              "            style=\"display:none;\">\n",
              "\n",
              "  <svg xmlns=\"http://www.w3.org/2000/svg\" height=\"24px\" viewBox=\"0 -960 960 960\">\n",
              "    <path d=\"M120-120v-720h720v720H120Zm60-500h600v-160H180v160Zm220 220h160v-160H400v160Zm0 220h160v-160H400v160ZM180-400h160v-160H180v160Zm440 0h160v-160H620v160ZM180-180h160v-160H180v160Zm440 0h160v-160H620v160Z\"/>\n",
              "  </svg>\n",
              "    </button>\n",
              "\n",
              "  <style>\n",
              "    .colab-df-container {\n",
              "      display:flex;\n",
              "      gap: 12px;\n",
              "    }\n",
              "\n",
              "    .colab-df-convert {\n",
              "      background-color: #E8F0FE;\n",
              "      border: none;\n",
              "      border-radius: 50%;\n",
              "      cursor: pointer;\n",
              "      display: none;\n",
              "      fill: #1967D2;\n",
              "      height: 32px;\n",
              "      padding: 0 0 0 0;\n",
              "      width: 32px;\n",
              "    }\n",
              "\n",
              "    .colab-df-convert:hover {\n",
              "      background-color: #E2EBFA;\n",
              "      box-shadow: 0px 1px 2px rgba(60, 64, 67, 0.3), 0px 1px 3px 1px rgba(60, 64, 67, 0.15);\n",
              "      fill: #174EA6;\n",
              "    }\n",
              "\n",
              "    .colab-df-buttons div {\n",
              "      margin-bottom: 4px;\n",
              "    }\n",
              "\n",
              "    [theme=dark] .colab-df-convert {\n",
              "      background-color: #3B4455;\n",
              "      fill: #D2E3FC;\n",
              "    }\n",
              "\n",
              "    [theme=dark] .colab-df-convert:hover {\n",
              "      background-color: #434B5C;\n",
              "      box-shadow: 0px 1px 3px 1px rgba(0, 0, 0, 0.15);\n",
              "      filter: drop-shadow(0px 1px 2px rgba(0, 0, 0, 0.3));\n",
              "      fill: #FFFFFF;\n",
              "    }\n",
              "  </style>\n",
              "\n",
              "    <script>\n",
              "      const buttonEl =\n",
              "        document.querySelector('#df-5f21bc5d-42b2-48b8-a245-89046ab393d6 button.colab-df-convert');\n",
              "      buttonEl.style.display =\n",
              "        google.colab.kernel.accessAllowed ? 'block' : 'none';\n",
              "\n",
              "      async function convertToInteractive(key) {\n",
              "        const element = document.querySelector('#df-5f21bc5d-42b2-48b8-a245-89046ab393d6');\n",
              "        const dataTable =\n",
              "          await google.colab.kernel.invokeFunction('convertToInteractive',\n",
              "                                                    [key], {});\n",
              "        if (!dataTable) return;\n",
              "\n",
              "        const docLinkHtml = 'Like what you see? Visit the ' +\n",
              "          '<a target=\"_blank\" href=https://colab.research.google.com/notebooks/data_table.ipynb>data table notebook</a>'\n",
              "          + ' to learn more about interactive tables.';\n",
              "        element.innerHTML = '';\n",
              "        dataTable['output_type'] = 'display_data';\n",
              "        await google.colab.output.renderOutput(dataTable, element);\n",
              "        const docLink = document.createElement('div');\n",
              "        docLink.innerHTML = docLinkHtml;\n",
              "        element.appendChild(docLink);\n",
              "      }\n",
              "    </script>\n",
              "  </div>\n",
              "\n",
              "\n",
              "<div id=\"df-10dbaa12-976e-479b-8026-849dec4c75c4\">\n",
              "  <button class=\"colab-df-quickchart\" onclick=\"quickchart('df-10dbaa12-976e-479b-8026-849dec4c75c4')\"\n",
              "            title=\"Suggest charts\"\n",
              "            style=\"display:none;\">\n",
              "\n",
              "<svg xmlns=\"http://www.w3.org/2000/svg\" height=\"24px\"viewBox=\"0 0 24 24\"\n",
              "     width=\"24px\">\n",
              "    <g>\n",
              "        <path d=\"M19 3H5c-1.1 0-2 .9-2 2v14c0 1.1.9 2 2 2h14c1.1 0 2-.9 2-2V5c0-1.1-.9-2-2-2zM9 17H7v-7h2v7zm4 0h-2V7h2v10zm4 0h-2v-4h2v4z\"/>\n",
              "    </g>\n",
              "</svg>\n",
              "  </button>\n",
              "\n",
              "<style>\n",
              "  .colab-df-quickchart {\n",
              "      --bg-color: #E8F0FE;\n",
              "      --fill-color: #1967D2;\n",
              "      --hover-bg-color: #E2EBFA;\n",
              "      --hover-fill-color: #174EA6;\n",
              "      --disabled-fill-color: #AAA;\n",
              "      --disabled-bg-color: #DDD;\n",
              "  }\n",
              "\n",
              "  [theme=dark] .colab-df-quickchart {\n",
              "      --bg-color: #3B4455;\n",
              "      --fill-color: #D2E3FC;\n",
              "      --hover-bg-color: #434B5C;\n",
              "      --hover-fill-color: #FFFFFF;\n",
              "      --disabled-bg-color: #3B4455;\n",
              "      --disabled-fill-color: #666;\n",
              "  }\n",
              "\n",
              "  .colab-df-quickchart {\n",
              "    background-color: var(--bg-color);\n",
              "    border: none;\n",
              "    border-radius: 50%;\n",
              "    cursor: pointer;\n",
              "    display: none;\n",
              "    fill: var(--fill-color);\n",
              "    height: 32px;\n",
              "    padding: 0;\n",
              "    width: 32px;\n",
              "  }\n",
              "\n",
              "  .colab-df-quickchart:hover {\n",
              "    background-color: var(--hover-bg-color);\n",
              "    box-shadow: 0 1px 2px rgba(60, 64, 67, 0.3), 0 1px 3px 1px rgba(60, 64, 67, 0.15);\n",
              "    fill: var(--button-hover-fill-color);\n",
              "  }\n",
              "\n",
              "  .colab-df-quickchart-complete:disabled,\n",
              "  .colab-df-quickchart-complete:disabled:hover {\n",
              "    background-color: var(--disabled-bg-color);\n",
              "    fill: var(--disabled-fill-color);\n",
              "    box-shadow: none;\n",
              "  }\n",
              "\n",
              "  .colab-df-spinner {\n",
              "    border: 2px solid var(--fill-color);\n",
              "    border-color: transparent;\n",
              "    border-bottom-color: var(--fill-color);\n",
              "    animation:\n",
              "      spin 1s steps(1) infinite;\n",
              "  }\n",
              "\n",
              "  @keyframes spin {\n",
              "    0% {\n",
              "      border-color: transparent;\n",
              "      border-bottom-color: var(--fill-color);\n",
              "      border-left-color: var(--fill-color);\n",
              "    }\n",
              "    20% {\n",
              "      border-color: transparent;\n",
              "      border-left-color: var(--fill-color);\n",
              "      border-top-color: var(--fill-color);\n",
              "    }\n",
              "    30% {\n",
              "      border-color: transparent;\n",
              "      border-left-color: var(--fill-color);\n",
              "      border-top-color: var(--fill-color);\n",
              "      border-right-color: var(--fill-color);\n",
              "    }\n",
              "    40% {\n",
              "      border-color: transparent;\n",
              "      border-right-color: var(--fill-color);\n",
              "      border-top-color: var(--fill-color);\n",
              "    }\n",
              "    60% {\n",
              "      border-color: transparent;\n",
              "      border-right-color: var(--fill-color);\n",
              "    }\n",
              "    80% {\n",
              "      border-color: transparent;\n",
              "      border-right-color: var(--fill-color);\n",
              "      border-bottom-color: var(--fill-color);\n",
              "    }\n",
              "    90% {\n",
              "      border-color: transparent;\n",
              "      border-bottom-color: var(--fill-color);\n",
              "    }\n",
              "  }\n",
              "</style>\n",
              "\n",
              "  <script>\n",
              "    async function quickchart(key) {\n",
              "      const quickchartButtonEl =\n",
              "        document.querySelector('#' + key + ' button');\n",
              "      quickchartButtonEl.disabled = true;  // To prevent multiple clicks.\n",
              "      quickchartButtonEl.classList.add('colab-df-spinner');\n",
              "      try {\n",
              "        const charts = await google.colab.kernel.invokeFunction(\n",
              "            'suggestCharts', [key], {});\n",
              "      } catch (error) {\n",
              "        console.error('Error during call to suggestCharts:', error);\n",
              "      }\n",
              "      quickchartButtonEl.classList.remove('colab-df-spinner');\n",
              "      quickchartButtonEl.classList.add('colab-df-quickchart-complete');\n",
              "    }\n",
              "    (() => {\n",
              "      let quickchartButtonEl =\n",
              "        document.querySelector('#df-10dbaa12-976e-479b-8026-849dec4c75c4 button');\n",
              "      quickchartButtonEl.style.display =\n",
              "        google.colab.kernel.accessAllowed ? 'block' : 'none';\n",
              "    })();\n",
              "  </script>\n",
              "</div>\n",
              "\n",
              "    </div>\n",
              "  </div>\n"
            ]
          },
          "metadata": {},
          "execution_count": 301
        }
      ]
    },
    {
      "cell_type": "markdown",
      "source": [
        "**----------------------------------------------------------------------------End-----------------------------------------------------------------------------------------**"
      ],
      "metadata": {
        "nteract": {
          "transient": {
            "deleting": false
          }
        },
        "id": "hhVn7rFtnBst"
      }
    }
  ],
  "metadata": {
    "kernelspec": {
      "name": "python310-sdkv2",
      "language": "python",
      "display_name": "Python 3.10 - SDK v2"
    },
    "language_info": {
      "name": "python",
      "version": "3.10.11",
      "mimetype": "text/x-python",
      "codemirror_mode": {
        "name": "ipython",
        "version": 3
      },
      "pygments_lexer": "ipython3",
      "nbconvert_exporter": "python",
      "file_extension": ".py"
    },
    "microsoft": {
      "ms_spell_check": {
        "ms_spell_check_language": "en"
      }
    },
    "nteract": {
      "version": "nteract-front-end@1.0.0"
    },
    "kernel_info": {
      "name": "python310-sdkv2"
    },
    "colab": {
      "provenance": []
    }
  },
  "nbformat": 4,
  "nbformat_minor": 0
}